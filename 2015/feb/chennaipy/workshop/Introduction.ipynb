{
 "metadata": {
  "name": "",
  "signature": "sha256:9f2296e7adda49f1b549c82fd3254edffb30c1fcbeba1136a919ff4bf0a2a80e"
 },
 "nbformat": 3,
 "nbformat_minor": 0,
 "worksheets": [
  {
   "cells": [
    {
     "cell_type": "markdown",
     "metadata": {},
     "source": [
      "# Python 101 Workshop\n",
      "> Chennaipy, February 2015"
     ]
    },
    {
     "cell_type": "markdown",
     "metadata": {},
     "source": [
      "## Open Wifi :D\n",
      "- SSID: Adaptiveyou\n",
      "- Password: chennaipy28"
     ]
    },
    {
     "cell_type": "markdown",
     "metadata": {},
     "source": [
      "http://developers.google.com/edu/python/set-up"
     ]
    },
    {
     "cell_type": "markdown",
     "metadata": {},
     "source": [
      "## Todays workshop layout"
     ]
    },
    {
     "cell_type": "markdown",
     "metadata": {},
     "source": [
      "- Learn concepts\n",
      "- Break out into a team of 6 with one trainer and do lab exercises\n",
      "- Repeat"
     ]
    },
    {
     "cell_type": "markdown",
     "metadata": {},
     "source": [
      "## An introduction"
     ]
    },
    {
     "cell_type": "markdown",
     "metadata": {},
     "source": [
      "- Python is an **OLD** language\n",
      "    - 1990\n",
      "    - [Guido](http://en.wikipedia.org/wiki/Guido_van_Rossum)\n",
      "- Quick & Light\n",
      "    - Frictionless\n",
      "- Fast prototyping\n",
      "    - Great turnaround time\n",
      "- Dynamic\n",
      "    - No Declarations / Types\n",
      "- Interpreted\n",
      "    - Quickly learn things\n",
      "    - Experimentation based approach\n",
      "- Scripting language\n",
      "- No curly braces and the like to define scope\n",
      "    - Indentation based"
     ]
    },
    {
     "cell_type": "markdown",
     "metadata": {},
     "source": [
      "## Agenda"
     ]
    },
    {
     "cell_type": "markdown",
     "metadata": {},
     "source": [
      "- Introduction\n",
      "- Modules\n",
      "- Packages\n",
      "- Functions\n",
      "- Conditions\n",
      "- Strings"
     ]
    },
    {
     "cell_type": "markdown",
     "metadata": {},
     "source": [
      "### Dynamic & Interpreted"
     ]
    },
    {
     "cell_type": "code",
     "collapsed": false,
     "input": [
      "foo = 42"
     ],
     "language": "python",
     "metadata": {},
     "outputs": [],
     "prompt_number": 1
    },
    {
     "cell_type": "code",
     "collapsed": false,
     "input": [
      "foo"
     ],
     "language": "python",
     "metadata": {},
     "outputs": [
      {
       "metadata": {},
       "output_type": "pyout",
       "prompt_number": 2,
       "text": [
        "42"
       ]
      }
     ],
     "prompt_number": 2
    },
    {
     "cell_type": "code",
     "collapsed": false,
     "input": [
      "type(foo)"
     ],
     "language": "python",
     "metadata": {},
     "outputs": [
      {
       "metadata": {},
       "output_type": "pyout",
       "prompt_number": 3,
       "text": [
        "int"
       ]
      }
     ],
     "prompt_number": 3
    },
    {
     "cell_type": "code",
     "collapsed": false,
     "input": [
      "foo = \"FourtyTwo\""
     ],
     "language": "python",
     "metadata": {},
     "outputs": [],
     "prompt_number": 4
    },
    {
     "cell_type": "code",
     "collapsed": false,
     "input": [
      "foo"
     ],
     "language": "python",
     "metadata": {},
     "outputs": [
      {
       "metadata": {},
       "output_type": "pyout",
       "prompt_number": 5,
       "text": [
        "'FourtyTwo'"
       ]
      }
     ],
     "prompt_number": 5
    },
    {
     "cell_type": "code",
     "collapsed": false,
     "input": [
      "type(foo)"
     ],
     "language": "python",
     "metadata": {},
     "outputs": [
      {
       "metadata": {},
       "output_type": "pyout",
       "prompt_number": 6,
       "text": [
        "str"
       ]
      }
     ],
     "prompt_number": 6
    },
    {
     "cell_type": "code",
     "collapsed": false,
     "input": [
      "foo + 42"
     ],
     "language": "python",
     "metadata": {},
     "outputs": [
      {
       "ename": "TypeError",
       "evalue": "cannot concatenate 'str' and 'int' objects",
       "output_type": "pyerr",
       "traceback": [
        "\u001b[0;31m---------------------------------------------------------------------------\u001b[0m\n\u001b[0;31mTypeError\u001b[0m                                 Traceback (most recent call last)",
        "\u001b[0;32m<ipython-input-7-249c62fcacf0>\u001b[0m in \u001b[0;36m<module>\u001b[0;34m()\u001b[0m\n\u001b[0;32m----> 1\u001b[0;31m \u001b[0mfoo\u001b[0m \u001b[0;34m+\u001b[0m \u001b[0;36m42\u001b[0m\u001b[0;34m\u001b[0m\u001b[0m\n\u001b[0m",
        "\u001b[0;31mTypeError\u001b[0m: cannot concatenate 'str' and 'int' objects"
       ]
      }
     ],
     "prompt_number": 7
    },
    {
     "cell_type": "code",
     "collapsed": false,
     "input": [
      "foo + str(42)"
     ],
     "language": "python",
     "metadata": {},
     "outputs": [
      {
       "metadata": {},
       "output_type": "pyout",
       "prompt_number": 8,
       "text": [
        "'FourtyTwo42'"
       ]
      }
     ],
     "prompt_number": 8
    },
    {
     "cell_type": "markdown",
     "metadata": {},
     "source": [
      "---"
     ]
    },
    {
     "cell_type": "markdown",
     "metadata": {},
     "source": [
      "### Modules"
     ]
    },
    {
     "cell_type": "markdown",
     "metadata": {},
     "source": [
      "#### Method 1: Import the entire module"
     ]
    },
    {
     "cell_type": "code",
     "collapsed": false,
     "input": [
      "import os"
     ],
     "language": "python",
     "metadata": {},
     "outputs": [],
     "prompt_number": 9
    },
    {
     "cell_type": "code",
     "collapsed": false,
     "input": [
      "os.getcwd()"
     ],
     "language": "python",
     "metadata": {},
     "outputs": [
      {
       "metadata": {},
       "output_type": "pyout",
       "prompt_number": 10,
       "text": [
        "'/Users/shrayasr/code/talks/2015/feb/chennaipy/workshop'"
       ]
      }
     ],
     "prompt_number": 10
    },
    {
     "cell_type": "markdown",
     "metadata": {},
     "source": [
      "#### Method 2: Import particular parts from the module"
     ]
    },
    {
     "cell_type": "code",
     "collapsed": false,
     "input": [
      "from os import getcwd"
     ],
     "language": "python",
     "metadata": {},
     "outputs": [],
     "prompt_number": 11
    },
    {
     "cell_type": "code",
     "collapsed": false,
     "input": [
      "getcwd()"
     ],
     "language": "python",
     "metadata": {},
     "outputs": [
      {
       "metadata": {},
       "output_type": "pyout",
       "prompt_number": 12,
       "text": [
        "'/Users/shrayasr/code/talks/2015/feb/chennaipy/workshop'"
       ]
      }
     ],
     "prompt_number": 12
    },
    {
     "cell_type": "markdown",
     "metadata": {},
     "source": [
      "#### Method 3: Import all the things from the module"
     ]
    },
    {
     "cell_type": "code",
     "collapsed": false,
     "input": [
      "from os import *"
     ],
     "language": "python",
     "metadata": {},
     "outputs": [],
     "prompt_number": 13
    },
    {
     "cell_type": "code",
     "collapsed": false,
     "input": [
      "getcwd()"
     ],
     "language": "python",
     "metadata": {},
     "outputs": [
      {
       "metadata": {},
       "output_type": "pyout",
       "prompt_number": 14,
       "text": [
        "'/Users/shrayasr/code/talks/2015/feb/chennaipy/workshop'"
       ]
      }
     ],
     "prompt_number": 14
    },
    {
     "cell_type": "code",
     "collapsed": false,
     "input": [
      "path.isdir(\"/Users/shrayasr\")"
     ],
     "language": "python",
     "metadata": {},
     "outputs": [
      {
       "metadata": {},
       "output_type": "pyout",
       "prompt_number": 15,
       "text": [
        "True"
       ]
      }
     ],
     "prompt_number": 15
    },
    {
     "cell_type": "markdown",
     "metadata": {},
     "source": [
      "**Note: This is Evil!**"
     ]
    },
    {
     "cell_type": "markdown",
     "metadata": {},
     "source": [
      "---"
     ]
    },
    {
     "cell_type": "markdown",
     "metadata": {},
     "source": [
      "### Helpers"
     ]
    },
    {
     "cell_type": "code",
     "collapsed": false,
     "input": [
      "dir(os)"
     ],
     "language": "python",
     "metadata": {},
     "outputs": [
      {
       "metadata": {},
       "output_type": "pyout",
       "prompt_number": 16,
       "text": [
        "['EX_CANTCREAT',\n",
        " 'EX_CONFIG',\n",
        " 'EX_DATAERR',\n",
        " 'EX_IOERR',\n",
        " 'EX_NOHOST',\n",
        " 'EX_NOINPUT',\n",
        " 'EX_NOPERM',\n",
        " 'EX_NOUSER',\n",
        " 'EX_OK',\n",
        " 'EX_OSERR',\n",
        " 'EX_OSFILE',\n",
        " 'EX_PROTOCOL',\n",
        " 'EX_SOFTWARE',\n",
        " 'EX_TEMPFAIL',\n",
        " 'EX_UNAVAILABLE',\n",
        " 'EX_USAGE',\n",
        " 'F_OK',\n",
        " 'NGROUPS_MAX',\n",
        " 'O_APPEND',\n",
        " 'O_ASYNC',\n",
        " 'O_CREAT',\n",
        " 'O_DIRECTORY',\n",
        " 'O_DSYNC',\n",
        " 'O_EXCL',\n",
        " 'O_EXLOCK',\n",
        " 'O_NDELAY',\n",
        " 'O_NOCTTY',\n",
        " 'O_NOFOLLOW',\n",
        " 'O_NONBLOCK',\n",
        " 'O_RDONLY',\n",
        " 'O_RDWR',\n",
        " 'O_SHLOCK',\n",
        " 'O_SYNC',\n",
        " 'O_TRUNC',\n",
        " 'O_WRONLY',\n",
        " 'P_NOWAIT',\n",
        " 'P_NOWAITO',\n",
        " 'P_WAIT',\n",
        " 'R_OK',\n",
        " 'SEEK_CUR',\n",
        " 'SEEK_END',\n",
        " 'SEEK_SET',\n",
        " 'TMP_MAX',\n",
        " 'UserDict',\n",
        " 'WCONTINUED',\n",
        " 'WCOREDUMP',\n",
        " 'WEXITSTATUS',\n",
        " 'WIFCONTINUED',\n",
        " 'WIFEXITED',\n",
        " 'WIFSIGNALED',\n",
        " 'WIFSTOPPED',\n",
        " 'WNOHANG',\n",
        " 'WSTOPSIG',\n",
        " 'WTERMSIG',\n",
        " 'WUNTRACED',\n",
        " 'W_OK',\n",
        " 'X_OK',\n",
        " '_Environ',\n",
        " '__all__',\n",
        " '__builtins__',\n",
        " '__doc__',\n",
        " '__file__',\n",
        " '__name__',\n",
        " '__package__',\n",
        " '_copy_reg',\n",
        " '_execvpe',\n",
        " '_exists',\n",
        " '_exit',\n",
        " '_get_exports_list',\n",
        " '_make_stat_result',\n",
        " '_make_statvfs_result',\n",
        " '_pickle_stat_result',\n",
        " '_pickle_statvfs_result',\n",
        " '_spawnvef',\n",
        " 'abort',\n",
        " 'access',\n",
        " 'altsep',\n",
        " 'chdir',\n",
        " 'chflags',\n",
        " 'chmod',\n",
        " 'chown',\n",
        " 'chroot',\n",
        " 'close',\n",
        " 'closerange',\n",
        " 'confstr',\n",
        " 'confstr_names',\n",
        " 'ctermid',\n",
        " 'curdir',\n",
        " 'defpath',\n",
        " 'devnull',\n",
        " 'dup',\n",
        " 'dup2',\n",
        " 'environ',\n",
        " 'errno',\n",
        " 'error',\n",
        " 'execl',\n",
        " 'execle',\n",
        " 'execlp',\n",
        " 'execlpe',\n",
        " 'execv',\n",
        " 'execve',\n",
        " 'execvp',\n",
        " 'execvpe',\n",
        " 'extsep',\n",
        " 'fchdir',\n",
        " 'fchmod',\n",
        " 'fchown',\n",
        " 'fdopen',\n",
        " 'fork',\n",
        " 'forkpty',\n",
        " 'fpathconf',\n",
        " 'fstat',\n",
        " 'fstatvfs',\n",
        " 'fsync',\n",
        " 'ftruncate',\n",
        " 'getcwd',\n",
        " 'getcwdu',\n",
        " 'getegid',\n",
        " 'getenv',\n",
        " 'geteuid',\n",
        " 'getgid',\n",
        " 'getgroups',\n",
        " 'getloadavg',\n",
        " 'getlogin',\n",
        " 'getpgid',\n",
        " 'getpgrp',\n",
        " 'getpid',\n",
        " 'getppid',\n",
        " 'getsid',\n",
        " 'getuid',\n",
        " 'initgroups',\n",
        " 'isatty',\n",
        " 'kill',\n",
        " 'killpg',\n",
        " 'lchflags',\n",
        " 'lchmod',\n",
        " 'lchown',\n",
        " 'linesep',\n",
        " 'link',\n",
        " 'listdir',\n",
        " 'lseek',\n",
        " 'lstat',\n",
        " 'major',\n",
        " 'makedev',\n",
        " 'makedirs',\n",
        " 'minor',\n",
        " 'mkdir',\n",
        " 'mkfifo',\n",
        " 'mknod',\n",
        " 'name',\n",
        " 'nice',\n",
        " 'open',\n",
        " 'openpty',\n",
        " 'pardir',\n",
        " 'path',\n",
        " 'pathconf',\n",
        " 'pathconf_names',\n",
        " 'pathsep',\n",
        " 'pipe',\n",
        " 'popen',\n",
        " 'popen2',\n",
        " 'popen3',\n",
        " 'popen4',\n",
        " 'putenv',\n",
        " 'read',\n",
        " 'readlink',\n",
        " 'remove',\n",
        " 'removedirs',\n",
        " 'rename',\n",
        " 'renames',\n",
        " 'rmdir',\n",
        " 'sep',\n",
        " 'setegid',\n",
        " 'seteuid',\n",
        " 'setgid',\n",
        " 'setgroups',\n",
        " 'setpgid',\n",
        " 'setpgrp',\n",
        " 'setregid',\n",
        " 'setreuid',\n",
        " 'setsid',\n",
        " 'setuid',\n",
        " 'spawnl',\n",
        " 'spawnle',\n",
        " 'spawnlp',\n",
        " 'spawnlpe',\n",
        " 'spawnv',\n",
        " 'spawnve',\n",
        " 'spawnvp',\n",
        " 'spawnvpe',\n",
        " 'stat',\n",
        " 'stat_float_times',\n",
        " 'stat_result',\n",
        " 'statvfs',\n",
        " 'statvfs_result',\n",
        " 'strerror',\n",
        " 'symlink',\n",
        " 'sys',\n",
        " 'sysconf',\n",
        " 'sysconf_names',\n",
        " 'system',\n",
        " 'tcgetpgrp',\n",
        " 'tcsetpgrp',\n",
        " 'tempnam',\n",
        " 'times',\n",
        " 'tmpfile',\n",
        " 'tmpnam',\n",
        " 'ttyname',\n",
        " 'umask',\n",
        " 'uname',\n",
        " 'unlink',\n",
        " 'unsetenv',\n",
        " 'urandom',\n",
        " 'utime',\n",
        " 'wait',\n",
        " 'wait3',\n",
        " 'wait4',\n",
        " 'waitpid',\n",
        " 'walk',\n",
        " 'write']"
       ]
      }
     ],
     "prompt_number": 16
    },
    {
     "cell_type": "code",
     "collapsed": false,
     "input": [
      "help(os)"
     ],
     "language": "python",
     "metadata": {},
     "outputs": [
      {
       "output_type": "stream",
       "stream": "stdout",
       "text": [
        "Help on module os:\n",
        "\n",
        "NAME\n",
        "    os - OS routines for NT or Posix depending on what system we're on.\n",
        "\n",
        "FILE\n",
        "    /Users/shrayasr/code/talks/2015/feb/chennaipy/workshop/env/lib/python2.7/os.py\n",
        "\n",
        "DESCRIPTION\n",
        "    This exports:\n",
        "      - all functions from posix, nt, os2, or ce, e.g. unlink, stat, etc.\n",
        "      - os.path is one of the modules posixpath, or ntpath\n",
        "      - os.name is 'posix', 'nt', 'os2', 'ce' or 'riscos'\n",
        "      - os.curdir is a string representing the current directory ('.' or ':')\n",
        "      - os.pardir is a string representing the parent directory ('..' or '::')\n",
        "      - os.sep is the (or a most common) pathname separator ('/' or ':' or '\\\\')\n",
        "      - os.extsep is the extension separator ('.' or '/')\n",
        "      - os.altsep is the alternate pathname separator (None or '/')\n",
        "      - os.pathsep is the component separator used in $PATH etc\n",
        "      - os.linesep is the line separator in text files ('\\r' or '\\n' or '\\r\\n')\n",
        "      - os.defpath is the default search path for executables\n",
        "      - os.devnull is the file path of the null device ('/dev/null', etc.)\n",
        "    \n",
        "    Programs that import and use 'os' stand a better chance of being\n",
        "    portable between different platforms.  Of course, they must then\n",
        "    only use functions that are defined by all platforms (e.g., unlink\n",
        "    and opendir), and leave all pathname manipulation to os.path\n",
        "    (e.g., split and join).\n",
        "\n",
        "CLASSES\n",
        "    __builtin__.object\n",
        "        posix.stat_result\n",
        "        posix.statvfs_result\n",
        "    exceptions.EnvironmentError(exceptions.StandardError)\n",
        "        exceptions.OSError\n",
        "    \n",
        "    error = class OSError(EnvironmentError)\n",
        "     |  OS system call failed.\n",
        "     |  \n",
        "     |  Method resolution order:\n",
        "     |      OSError\n",
        "     |      EnvironmentError\n",
        "     |      StandardError\n",
        "     |      Exception\n",
        "     |      BaseException\n",
        "     |      __builtin__.object\n",
        "     |  \n",
        "     |  Methods defined here:\n",
        "     |  \n",
        "     |  __init__(...)\n",
        "     |      x.__init__(...) initializes x; see help(type(x)) for signature\n",
        "     |  \n",
        "     |  ----------------------------------------------------------------------\n",
        "     |  Data and other attributes defined here:\n",
        "     |  \n",
        "     |  __new__ = <built-in method __new__ of type object>\n",
        "     |      T.__new__(S, ...) -> a new object with type S, a subtype of T\n",
        "     |  \n",
        "     |  ----------------------------------------------------------------------\n",
        "     |  Methods inherited from EnvironmentError:\n",
        "     |  \n",
        "     |  __reduce__(...)\n",
        "     |  \n",
        "     |  __str__(...)\n",
        "     |      x.__str__() <==> str(x)\n",
        "     |  \n",
        "     |  ----------------------------------------------------------------------\n",
        "     |  Data descriptors inherited from EnvironmentError:\n",
        "     |  \n",
        "     |  errno\n",
        "     |      exception errno\n",
        "     |  \n",
        "     |  filename\n",
        "     |      exception filename\n",
        "     |  \n",
        "     |  strerror\n",
        "     |      exception strerror\n",
        "     |  \n",
        "     |  ----------------------------------------------------------------------\n",
        "     |  Methods inherited from BaseException:\n",
        "     |  \n",
        "     |  __delattr__(...)\n",
        "     |      x.__delattr__('name') <==> del x.name\n",
        "     |  \n",
        "     |  __getattribute__(...)\n",
        "     |      x.__getattribute__('name') <==> x.name\n",
        "     |  \n",
        "     |  __getitem__(...)\n",
        "     |      x.__getitem__(y) <==> x[y]\n",
        "     |  \n",
        "     |  __getslice__(...)\n",
        "     |      x.__getslice__(i, j) <==> x[i:j]\n",
        "     |      \n",
        "     |      Use of negative indices is not supported.\n",
        "     |  \n",
        "     |  __repr__(...)\n",
        "     |      x.__repr__() <==> repr(x)\n",
        "     |  \n",
        "     |  __setattr__(...)\n",
        "     |      x.__setattr__('name', value) <==> x.name = value\n",
        "     |  \n",
        "     |  __setstate__(...)\n",
        "     |  \n",
        "     |  __unicode__(...)\n",
        "     |  \n",
        "     |  ----------------------------------------------------------------------\n",
        "     |  Data descriptors inherited from BaseException:\n",
        "     |  \n",
        "     |  __dict__\n",
        "     |  \n",
        "     |  args\n",
        "     |  \n",
        "     |  message\n",
        "    \n",
        "    class stat_result(__builtin__.object)\n",
        "     |  stat_result: Result from stat or lstat.\n",
        "     |  \n",
        "     |  This object may be accessed either as a tuple of\n",
        "     |    (mode, ino, dev, nlink, uid, gid, size, atime, mtime, ctime)\n",
        "     |  or via the attributes st_mode, st_ino, st_dev, st_nlink, st_uid, and so on.\n",
        "     |  \n",
        "     |  Posix/windows: If your platform supports st_blksize, st_blocks, st_rdev,\n",
        "     |  or st_flags, they are available as attributes only.\n",
        "     |  \n",
        "     |  See os.stat for more information.\n",
        "     |  \n",
        "     |  Methods defined here:\n",
        "     |  \n",
        "     |  __add__(...)\n",
        "     |      x.__add__(y) <==> x+y\n",
        "     |  \n",
        "     |  __contains__(...)\n",
        "     |      x.__contains__(y) <==> y in x\n",
        "     |  \n",
        "     |  __eq__(...)\n",
        "     |      x.__eq__(y) <==> x==y\n",
        "     |  \n",
        "     |  __ge__(...)\n",
        "     |      x.__ge__(y) <==> x>=y\n",
        "     |  \n",
        "     |  __getitem__(...)\n",
        "     |      x.__getitem__(y) <==> x[y]\n",
        "     |  \n",
        "     |  __getslice__(...)\n",
        "     |      x.__getslice__(i, j) <==> x[i:j]\n",
        "     |      \n",
        "     |      Use of negative indices is not supported.\n",
        "     |  \n",
        "     |  __gt__(...)\n",
        "     |      x.__gt__(y) <==> x>y\n",
        "     |  \n",
        "     |  __hash__(...)\n",
        "     |      x.__hash__() <==> hash(x)\n",
        "     |  \n",
        "     |  __le__(...)\n",
        "     |      x.__le__(y) <==> x<=y\n",
        "     |  \n",
        "     |  __len__(...)\n",
        "     |      x.__len__() <==> len(x)\n",
        "     |  \n",
        "     |  __lt__(...)\n",
        "     |      x.__lt__(y) <==> x<y\n",
        "     |  \n",
        "     |  __mul__(...)\n",
        "     |      x.__mul__(n) <==> x*n\n",
        "     |  \n",
        "     |  __ne__(...)\n",
        "     |      x.__ne__(y) <==> x!=y\n",
        "     |  \n",
        "     |  __reduce__(...)\n",
        "     |  \n",
        "     |  __repr__(...)\n",
        "     |      x.__repr__() <==> repr(x)\n",
        "     |  \n",
        "     |  __rmul__(...)\n",
        "     |      x.__rmul__(n) <==> n*x\n",
        "     |  \n",
        "     |  ----------------------------------------------------------------------\n",
        "     |  Data descriptors defined here:\n",
        "     |  \n",
        "     |  st_atime\n",
        "     |      time of last access\n",
        "     |  \n",
        "     |  st_birthtime\n",
        "     |      time of creation\n",
        "     |  \n",
        "     |  st_blksize\n",
        "     |      blocksize for filesystem I/O\n",
        "     |  \n",
        "     |  st_blocks\n",
        "     |      number of blocks allocated\n",
        "     |  \n",
        "     |  st_ctime\n",
        "     |      time of last change\n",
        "     |  \n",
        "     |  st_dev\n",
        "     |      device\n",
        "     |  \n",
        "     |  st_flags\n",
        "     |      user defined flags for file\n",
        "     |  \n",
        "     |  st_gen\n",
        "     |      generation number\n",
        "     |  \n",
        "     |  st_gid\n",
        "     |      group ID of owner\n",
        "     |  \n",
        "     |  st_ino\n",
        "     |      inode\n",
        "     |  \n",
        "     |  st_mode\n",
        "     |      protection bits\n",
        "     |  \n",
        "     |  st_mtime\n",
        "     |      time of last modification\n",
        "     |  \n",
        "     |  st_nlink\n",
        "     |      number of hard links\n",
        "     |  \n",
        "     |  st_rdev\n",
        "     |      device type (if inode device)\n",
        "     |  \n",
        "     |  st_size\n",
        "     |      total size, in bytes\n",
        "     |  \n",
        "     |  st_uid\n",
        "     |      user ID of owner\n",
        "     |  \n",
        "     |  ----------------------------------------------------------------------\n",
        "     |  Data and other attributes defined here:\n",
        "     |  \n",
        "     |  __new__ = <built-in method __new__ of type object>\n",
        "     |      T.__new__(S, ...) -> a new object with type S, a subtype of T\n",
        "     |  \n",
        "     |  n_fields = 19\n",
        "     |  \n",
        "     |  n_sequence_fields = 10\n",
        "     |  \n",
        "     |  n_unnamed_fields = 3\n",
        "    \n",
        "    class statvfs_result(__builtin__.object)\n",
        "     |  statvfs_result: Result from statvfs or fstatvfs.\n",
        "     |  \n",
        "     |  This object may be accessed either as a tuple of\n",
        "     |    (bsize, frsize, blocks, bfree, bavail, files, ffree, favail, flag, namemax),\n",
        "     |  or via the attributes f_bsize, f_frsize, f_blocks, f_bfree, and so on.\n",
        "     |  \n",
        "     |  See os.statvfs for more information.\n",
        "     |  \n",
        "     |  Methods defined here:\n",
        "     |  \n",
        "     |  __add__(...)\n",
        "     |      x.__add__(y) <==> x+y\n",
        "     |  \n",
        "     |  __contains__(...)\n",
        "     |      x.__contains__(y) <==> y in x\n",
        "     |  \n",
        "     |  __eq__(...)\n",
        "     |      x.__eq__(y) <==> x==y\n",
        "     |  \n",
        "     |  __ge__(...)\n",
        "     |      x.__ge__(y) <==> x>=y\n",
        "     |  \n",
        "     |  __getitem__(...)\n",
        "     |      x.__getitem__(y) <==> x[y]\n",
        "     |  \n",
        "     |  __getslice__(...)\n",
        "     |      x.__getslice__(i, j) <==> x[i:j]\n",
        "     |      \n",
        "     |      Use of negative indices is not supported.\n",
        "     |  \n",
        "     |  __gt__(...)\n",
        "     |      x.__gt__(y) <==> x>y\n",
        "     |  \n",
        "     |  __hash__(...)\n",
        "     |      x.__hash__() <==> hash(x)\n",
        "     |  \n",
        "     |  __le__(...)\n",
        "     |      x.__le__(y) <==> x<=y\n",
        "     |  \n",
        "     |  __len__(...)\n",
        "     |      x.__len__() <==> len(x)\n",
        "     |  \n",
        "     |  __lt__(...)\n",
        "     |      x.__lt__(y) <==> x<y\n",
        "     |  \n",
        "     |  __mul__(...)\n",
        "     |      x.__mul__(n) <==> x*n\n",
        "     |  \n",
        "     |  __ne__(...)\n",
        "     |      x.__ne__(y) <==> x!=y\n",
        "     |  \n",
        "     |  __reduce__(...)\n",
        "     |  \n",
        "     |  __repr__(...)\n",
        "     |      x.__repr__() <==> repr(x)\n",
        "     |  \n",
        "     |  __rmul__(...)\n",
        "     |      x.__rmul__(n) <==> n*x\n",
        "     |  \n",
        "     |  ----------------------------------------------------------------------\n",
        "     |  Data descriptors defined here:\n",
        "     |  \n",
        "     |  f_bavail\n",
        "     |  \n",
        "     |  f_bfree\n",
        "     |  \n",
        "     |  f_blocks\n",
        "     |  \n",
        "     |  f_bsize\n",
        "     |  \n",
        "     |  f_favail\n",
        "     |  \n",
        "     |  f_ffree\n",
        "     |  \n",
        "     |  f_files\n",
        "     |  \n",
        "     |  f_flag\n",
        "     |  \n",
        "     |  f_frsize\n",
        "     |  \n",
        "     |  f_namemax\n",
        "     |  \n",
        "     |  ----------------------------------------------------------------------\n",
        "     |  Data and other attributes defined here:\n",
        "     |  \n",
        "     |  __new__ = <built-in method __new__ of type object>\n",
        "     |      T.__new__(S, ...) -> a new object with type S, a subtype of T\n",
        "     |  \n",
        "     |  n_fields = 10\n",
        "     |  \n",
        "     |  n_sequence_fields = 10\n",
        "     |  \n",
        "     |  n_unnamed_fields = 0\n",
        "\n",
        "FUNCTIONS\n",
        "    WCOREDUMP(...)\n",
        "        WCOREDUMP(status) -> bool\n",
        "        \n",
        "        Return True if the process returning 'status' was dumped to a core file.\n",
        "    \n",
        "    WEXITSTATUS(...)\n",
        "        WEXITSTATUS(status) -> integer\n",
        "        \n",
        "        Return the process return code from 'status'.\n",
        "    \n",
        "    WIFCONTINUED(...)\n",
        "        WIFCONTINUED(status) -> bool\n",
        "        \n",
        "        Return True if the process returning 'status' was continued from a\n",
        "        job control stop.\n",
        "    \n",
        "    WIFEXITED(...)\n",
        "        WIFEXITED(status) -> bool\n",
        "        \n",
        "        Return true if the process returning 'status' exited using the exit()\n",
        "        system call.\n",
        "    \n",
        "    WIFSIGNALED(...)\n",
        "        WIFSIGNALED(status) -> bool\n",
        "        \n",
        "        Return True if the process returning 'status' was terminated by a signal.\n",
        "    \n",
        "    WIFSTOPPED(...)\n",
        "        WIFSTOPPED(status) -> bool\n",
        "        \n",
        "        Return True if the process returning 'status' was stopped.\n",
        "    \n",
        "    WSTOPSIG(...)\n",
        "        WSTOPSIG(status) -> integer\n",
        "        \n",
        "        Return the signal that stopped the process that provided\n",
        "        the 'status' value.\n",
        "    \n",
        "    WTERMSIG(...)\n",
        "        WTERMSIG(status) -> integer\n",
        "        \n",
        "        Return the signal that terminated the process that provided the 'status'\n",
        "        value.\n",
        "    \n",
        "    abort(...)\n",
        "        abort() -> does not return!\n",
        "        \n",
        "        Abort the interpreter immediately.  This 'dumps core' or otherwise fails\n",
        "        in the hardest way possible on the hosting operating system.\n",
        "    \n",
        "    access(...)\n",
        "        access(path, mode) -> True if granted, False otherwise\n",
        "        \n",
        "        Use the real uid/gid to test for access to a path.  Note that most\n",
        "        operations will use the effective uid/gid, therefore this routine can\n",
        "        be used in a suid/sgid environment to test if the invoking user has the\n",
        "        specified access to the path.  The mode argument can be F_OK to test\n",
        "        existence, or the inclusive-OR of R_OK, W_OK, and X_OK.\n",
        "    \n",
        "    chdir(...)\n",
        "        chdir(path)\n",
        "        \n",
        "        Change the current working directory to the specified path.\n",
        "    \n",
        "    chflags(...)\n",
        "        chflags(path, flags)\n",
        "        \n",
        "        Set file flags.\n",
        "    \n",
        "    chmod(...)\n",
        "        chmod(path, mode)\n",
        "        \n",
        "        Change the access permissions of a file.\n",
        "    \n",
        "    chown(...)\n",
        "        chown(path, uid, gid)\n",
        "        \n",
        "        Change the owner and group id of path to the numeric uid and gid.\n",
        "    \n",
        "    chroot(...)\n",
        "        chroot(path)\n",
        "        \n",
        "        Change root directory to path.\n",
        "    \n",
        "    close(...)\n",
        "        close(fd)\n",
        "        \n",
        "        Close a file descriptor (for low level IO).\n",
        "    \n",
        "    closerange(...)\n",
        "        closerange(fd_low, fd_high)\n",
        "        \n",
        "        Closes all file descriptors in [fd_low, fd_high), ignoring errors.\n",
        "    \n",
        "    confstr(...)\n",
        "        confstr(name) -> string\n",
        "        \n",
        "        Return a string-valued system configuration variable.\n",
        "    \n",
        "    ctermid(...)\n",
        "        ctermid() -> string\n",
        "        \n",
        "        Return the name of the controlling terminal for this process.\n",
        "    \n",
        "    dup(...)\n",
        "        dup(fd) -> fd2\n",
        "        \n",
        "        Return a duplicate of a file descriptor.\n",
        "    \n",
        "    dup2(...)\n",
        "        dup2(old_fd, new_fd)\n",
        "        \n",
        "        Duplicate file descriptor.\n",
        "    \n",
        "    execl(file, *args)\n",
        "        execl(file, *args)\n",
        "        \n",
        "        Execute the executable file with argument list args, replacing the\n",
        "        current process.\n",
        "    \n",
        "    execle(file, *args)\n",
        "        execle(file, *args, env)\n",
        "        \n",
        "        Execute the executable file with argument list args and\n",
        "        environment env, replacing the current process.\n",
        "    \n",
        "    execlp(file, *args)\n",
        "        execlp(file, *args)\n",
        "        \n",
        "        Execute the executable file (which is searched for along $PATH)\n",
        "        with argument list args, replacing the current process.\n",
        "    \n",
        "    execlpe(file, *args)\n",
        "        execlpe(file, *args, env)\n",
        "        \n",
        "        Execute the executable file (which is searched for along $PATH)\n",
        "        with argument list args and environment env, replacing the current\n",
        "        process.\n",
        "    \n",
        "    execv(...)\n",
        "        execv(path, args)\n",
        "        \n",
        "        Execute an executable path with arguments, replacing current process.\n",
        "        \n",
        "            path: path of executable file\n",
        "            args: tuple or list of strings\n",
        "    \n",
        "    execve(...)\n",
        "        execve(path, args, env)\n",
        "        \n",
        "        Execute a path with arguments and environment, replacing current process.\n",
        "        \n",
        "            path: path of executable file\n",
        "            args: tuple or list of arguments\n",
        "            env: dictionary of strings mapping to strings\n",
        "    \n",
        "    execvp(file, args)\n",
        "        execvp(file, args)\n",
        "        \n",
        "        Execute the executable file (which is searched for along $PATH)\n",
        "        with argument list args, replacing the current process.\n",
        "        args may be a list or tuple of strings.\n",
        "    \n",
        "    execvpe(file, args, env)\n",
        "        execvpe(file, args, env)\n",
        "        \n",
        "        Execute the executable file (which is searched for along $PATH)\n",
        "        with argument list args and environment env , replacing the\n",
        "        current process.\n",
        "        args may be a list or tuple of strings.\n",
        "    \n",
        "    fchdir(...)\n",
        "        fchdir(fildes)\n",
        "        \n",
        "        Change to the directory of the given file descriptor.  fildes must be\n",
        "        opened on a directory, not a file.\n",
        "    \n",
        "    fchmod(...)\n",
        "        fchmod(fd, mode)\n",
        "        \n",
        "        Change the access permissions of the file given by file\n",
        "        descriptor fd.\n",
        "    \n",
        "    fchown(...)\n",
        "        fchown(fd, uid, gid)\n",
        "        \n",
        "        Change the owner and group id of the file given by file descriptor\n",
        "        fd to the numeric uid and gid.\n",
        "    \n",
        "    fdopen(...)\n",
        "        fdopen(fd [, mode='r' [, bufsize]]) -> file_object\n",
        "        \n",
        "        Return an open file object connected to a file descriptor.\n",
        "    \n",
        "    fork(...)\n",
        "        fork() -> pid\n",
        "        \n",
        "        Fork a child process.\n",
        "        Return 0 to child process and PID of child to parent process.\n",
        "    \n",
        "    forkpty(...)\n",
        "        forkpty() -> (pid, master_fd)\n",
        "        \n",
        "        Fork a new process with a new pseudo-terminal as controlling tty.\n",
        "        \n",
        "        Like fork(), return 0 as pid to child process, and PID of child to parent.\n",
        "        To both, return fd of newly opened pseudo-terminal.\n",
        "    \n",
        "    fpathconf(...)\n",
        "        fpathconf(fd, name) -> integer\n",
        "        \n",
        "        Return the configuration limit name for the file descriptor fd.\n",
        "        If there is no limit, return -1.\n",
        "    \n",
        "    fstat(...)\n",
        "        fstat(fd) -> stat result\n",
        "        \n",
        "        Like stat(), but for an open file descriptor.\n",
        "    \n",
        "    fstatvfs(...)\n",
        "        fstatvfs(fd) -> statvfs result\n",
        "        \n",
        "        Perform an fstatvfs system call on the given fd.\n",
        "    \n",
        "    fsync(...)\n",
        "        fsync(fildes)\n",
        "        \n",
        "        force write of file with filedescriptor to disk.\n",
        "    \n",
        "    ftruncate(...)\n",
        "        ftruncate(fd, length)\n",
        "        \n",
        "        Truncate a file to a specified length.\n",
        "    \n",
        "    getcwd(...)\n",
        "        getcwd() -> path\n",
        "        \n",
        "        Return a string representing the current working directory.\n",
        "    \n",
        "    getcwdu(...)\n",
        "        getcwdu() -> path\n",
        "        \n",
        "        Return a unicode string representing the current working directory.\n",
        "    \n",
        "    getegid(...)\n",
        "        getegid() -> egid\n",
        "        \n",
        "        Return the current process's effective group id.\n",
        "    \n",
        "    getenv(key, default=None)\n",
        "        Get an environment variable, return None if it doesn't exist.\n",
        "        The optional second argument can specify an alternate default.\n",
        "    \n",
        "    geteuid(...)\n",
        "        geteuid() -> euid\n",
        "        \n",
        "        Return the current process's effective user id.\n",
        "    \n",
        "    getgid(...)\n",
        "        getgid() -> gid\n",
        "        \n",
        "        Return the current process's group id.\n",
        "    \n",
        "    getgroups(...)\n",
        "        getgroups() -> list of group IDs\n",
        "        \n",
        "        Return list of supplemental group IDs for the process.\n",
        "    \n",
        "    getloadavg(...)\n",
        "        getloadavg() -> (float, float, float)\n",
        "        \n",
        "        Return the number of processes in the system run queue averaged over\n",
        "        the last 1, 5, and 15 minutes or raises OSError if the load average\n",
        "        was unobtainable\n",
        "    \n",
        "    getlogin(...)\n",
        "        getlogin() -> string\n",
        "        \n",
        "        Return the actual login name.\n",
        "    \n",
        "    getpgid(...)\n",
        "        getpgid(pid) -> pgid\n",
        "        \n",
        "        Call the system call getpgid().\n",
        "    \n",
        "    getpgrp(...)\n",
        "        getpgrp() -> pgrp\n",
        "        \n",
        "        Return the current process group id.\n",
        "    \n",
        "    getpid(...)\n",
        "        getpid() -> pid\n",
        "        \n",
        "        Return the current process id\n",
        "    \n",
        "    getppid(...)\n",
        "        getppid() -> ppid\n",
        "        \n",
        "        Return the parent's process id.\n",
        "    \n",
        "    getsid(...)\n",
        "        getsid(pid) -> sid\n",
        "        \n",
        "        Call the system call getsid().\n",
        "    \n",
        "    getuid(...)\n",
        "        getuid() -> uid\n",
        "        \n",
        "        Return the current process's user id.\n",
        "    \n",
        "    initgroups(...)\n",
        "        initgroups(username, gid) -> None\n",
        "        \n",
        "        Call the system initgroups() to initialize the group access list with all of\n",
        "        the groups of which the specified username is a member, plus the specified\n",
        "        group id.\n",
        "    \n",
        "    isatty(...)\n",
        "        isatty(fd) -> bool\n",
        "        \n",
        "        Return True if the file descriptor 'fd' is an open file descriptor\n",
        "        connected to the slave end of a terminal.\n",
        "    \n",
        "    kill(...)\n",
        "        kill(pid, sig)\n",
        "        \n",
        "        Kill a process with a signal.\n",
        "    \n",
        "    killpg(...)\n",
        "        killpg(pgid, sig)\n",
        "        \n",
        "        Kill a process group with a signal.\n",
        "    \n",
        "    lchflags(...)\n",
        "        lchflags(path, flags)\n",
        "        \n",
        "        Set file flags.\n",
        "        This function will not follow symbolic links.\n",
        "    \n",
        "    lchmod(...)\n",
        "        lchmod(path, mode)\n",
        "        \n",
        "        Change the access permissions of a file. If path is a symlink, this\n",
        "        affects the link itself rather than the target.\n",
        "    \n",
        "    lchown(...)\n",
        "        lchown(path, uid, gid)\n",
        "        \n",
        "        Change the owner and group id of path to the numeric uid and gid.\n",
        "        This function will not follow symbolic links.\n",
        "    \n",
        "    link(...)\n",
        "        link(src, dst)\n",
        "        \n",
        "        Create a hard link to a file.\n",
        "    \n",
        "    listdir(...)\n",
        "        listdir(path) -> list_of_strings\n",
        "        \n",
        "        Return a list containing the names of the entries in the directory.\n",
        "        \n",
        "            path: path of directory to list\n",
        "        \n",
        "        The list is in arbitrary order.  It does not include the special\n",
        "        entries '.' and '..' even if they are present in the directory.\n",
        "    \n",
        "    lseek(...)\n",
        "        lseek(fd, pos, how) -> newpos\n",
        "        \n",
        "        Set the current position of a file descriptor.\n",
        "        Return the new cursor position in bytes, starting from the beginning.\n",
        "    \n",
        "    lstat(...)\n",
        "        lstat(path) -> stat result\n",
        "        \n",
        "        Like stat(path), but do not follow symbolic links.\n",
        "    \n",
        "    major(...)\n",
        "        major(device) -> major number\n",
        "        Extracts a device major number from a raw device number.\n",
        "    \n",
        "    makedev(...)\n",
        "        makedev(major, minor) -> device number\n",
        "        Composes a raw device number from the major and minor device numbers.\n",
        "    \n",
        "    makedirs(name, mode=511)\n",
        "        makedirs(path [, mode=0777])\n",
        "        \n",
        "        Super-mkdir; create a leaf directory and all intermediate ones.\n",
        "        Works like mkdir, except that any intermediate path segment (not\n",
        "        just the rightmost) will be created if it does not exist.  This is\n",
        "        recursive.\n",
        "    \n",
        "    minor(...)\n",
        "        minor(device) -> minor number\n",
        "        Extracts a device minor number from a raw device number.\n",
        "    \n",
        "    mkdir(...)\n",
        "        mkdir(path [, mode=0777])\n",
        "        \n",
        "        Create a directory.\n",
        "    \n",
        "    mkfifo(...)\n",
        "        mkfifo(filename [, mode=0666])\n",
        "        \n",
        "        Create a FIFO (a POSIX named pipe).\n",
        "    \n",
        "    mknod(...)\n",
        "        mknod(filename [, mode=0600, device])\n",
        "        \n",
        "        Create a filesystem node (file, device special file or named pipe)\n",
        "        named filename. mode specifies both the permissions to use and the\n",
        "        type of node to be created, being combined (bitwise OR) with one of\n",
        "        S_IFREG, S_IFCHR, S_IFBLK, and S_IFIFO. For S_IFCHR and S_IFBLK,\n",
        "        device defines the newly created device special file (probably using\n",
        "        os.makedev()), otherwise it is ignored.\n",
        "    \n",
        "    nice(...)\n",
        "        nice(inc) -> new_priority\n",
        "        \n",
        "        Decrease the priority of process by inc and return the new priority.\n",
        "    \n",
        "    open(...)\n",
        "        open(filename, flag [, mode=0777]) -> fd\n",
        "        \n",
        "        Open a file (for low level IO).\n",
        "    \n",
        "    openpty(...)\n",
        "        openpty() -> (master_fd, slave_fd)\n",
        "        \n",
        "        Open a pseudo-terminal, returning open fd's for both master and slave end.\n",
        "    \n",
        "    pathconf(...)\n",
        "        pathconf(path, name) -> integer\n",
        "        \n",
        "        Return the configuration limit name for the file or directory path.\n",
        "        If there is no limit, return -1.\n",
        "    \n",
        "    pipe(...)\n",
        "        pipe() -> (read_end, write_end)\n",
        "        \n",
        "        Create a pipe.\n",
        "    \n",
        "    popen(...)\n",
        "        popen(command [, mode='r' [, bufsize]]) -> pipe\n",
        "        \n",
        "        Open a pipe to/from a command returning a file object.\n",
        "    \n",
        "    popen2(cmd, mode='t', bufsize=-1)\n",
        "        Execute the shell command 'cmd' in a sub-process.  On UNIX, 'cmd'\n",
        "        may be a sequence, in which case arguments will be passed directly to\n",
        "        the program without shell intervention (as with os.spawnv()).  If 'cmd'\n",
        "        is a string it will be passed to the shell (as with os.system()). If\n",
        "        'bufsize' is specified, it sets the buffer size for the I/O pipes.  The\n",
        "        file objects (child_stdin, child_stdout) are returned.\n",
        "    \n",
        "    popen3(cmd, mode='t', bufsize=-1)\n",
        "        Execute the shell command 'cmd' in a sub-process.  On UNIX, 'cmd'\n",
        "        may be a sequence, in which case arguments will be passed directly to\n",
        "        the program without shell intervention (as with os.spawnv()).  If 'cmd'\n",
        "        is a string it will be passed to the shell (as with os.system()). If\n",
        "        'bufsize' is specified, it sets the buffer size for the I/O pipes.  The\n",
        "        file objects (child_stdin, child_stdout, child_stderr) are returned.\n",
        "    \n",
        "    popen4(cmd, mode='t', bufsize=-1)\n",
        "        Execute the shell command 'cmd' in a sub-process.  On UNIX, 'cmd'\n",
        "        may be a sequence, in which case arguments will be passed directly to\n",
        "        the program without shell intervention (as with os.spawnv()).  If 'cmd'\n",
        "        is a string it will be passed to the shell (as with os.system()). If\n",
        "        'bufsize' is specified, it sets the buffer size for the I/O pipes.  The\n",
        "        file objects (child_stdin, child_stdout_stderr) are returned.\n",
        "    \n",
        "    putenv(...)\n",
        "        putenv(key, value)\n",
        "        \n",
        "        Change or add an environment variable.\n",
        "    \n",
        "    read(...)\n",
        "        read(fd, buffersize) -> string\n",
        "        \n",
        "        Read a file descriptor.\n",
        "    \n",
        "    readlink(...)\n",
        "        readlink(path) -> path\n",
        "        \n",
        "        Return a string representing the path to which the symbolic link points.\n",
        "    \n",
        "    remove(...)\n",
        "        remove(path)\n",
        "        \n",
        "        Remove a file (same as unlink(path)).\n",
        "    \n",
        "    removedirs(name)\n",
        "        removedirs(path)\n",
        "        \n",
        "        Super-rmdir; remove a leaf directory and all empty intermediate\n",
        "        ones.  Works like rmdir except that, if the leaf directory is\n",
        "        successfully removed, directories corresponding to rightmost path\n",
        "        segments will be pruned away until either the whole path is\n",
        "        consumed or an error occurs.  Errors during this latter phase are\n",
        "        ignored -- they generally mean that a directory was not empty.\n",
        "    \n",
        "    rename(...)\n",
        "        rename(old, new)\n",
        "        \n",
        "        Rename a file or directory.\n",
        "    \n",
        "    renames(old, new)\n",
        "        renames(old, new)\n",
        "        \n",
        "        Super-rename; create directories as necessary and delete any left\n",
        "        empty.  Works like rename, except creation of any intermediate\n",
        "        directories needed to make the new pathname good is attempted\n",
        "        first.  After the rename, directories corresponding to rightmost\n",
        "        path segments of the old name will be pruned way until either the\n",
        "        whole path is consumed or a nonempty directory is found.\n",
        "        \n",
        "        Note: this function can fail with the new directory structure made\n",
        "        if you lack permissions needed to unlink the leaf directory or\n",
        "        file.\n",
        "    \n",
        "    rmdir(...)\n",
        "        rmdir(path)\n",
        "        \n",
        "        Remove a directory.\n",
        "    \n",
        "    setegid(...)\n",
        "        setegid(gid)\n",
        "        \n",
        "        Set the current process's effective group id.\n",
        "    \n",
        "    seteuid(...)\n",
        "        seteuid(uid)\n",
        "        \n",
        "        Set the current process's effective user id.\n",
        "    \n",
        "    setgid(...)\n",
        "        setgid(gid)\n",
        "        \n",
        "        Set the current process's group id.\n",
        "    \n",
        "    setgroups(...)\n",
        "        setgroups(list)\n",
        "        \n",
        "        Set the groups of the current process to list.\n",
        "    \n",
        "    setpgid(...)\n",
        "        setpgid(pid, pgrp)\n",
        "        \n",
        "        Call the system call setpgid().\n",
        "    \n",
        "    setpgrp(...)\n",
        "        setpgrp()\n",
        "        \n",
        "        Make this process the process group leader.\n",
        "    \n",
        "    setregid(...)\n",
        "        setregid(rgid, egid)\n",
        "        \n",
        "        Set the current process's real and effective group ids.\n",
        "    \n",
        "    setreuid(...)\n",
        "        setreuid(ruid, euid)\n",
        "        \n",
        "        Set the current process's real and effective user ids.\n",
        "    \n",
        "    setsid(...)\n",
        "        setsid()\n",
        "        \n",
        "        Call the system call setsid().\n",
        "    \n",
        "    setuid(...)\n",
        "        setuid(uid)\n",
        "        \n",
        "        Set the current process's user id.\n",
        "    \n",
        "    spawnl(mode, file, *args)\n",
        "        spawnl(mode, file, *args) -> integer\n",
        "        \n",
        "        Execute file with arguments from args in a subprocess.\n",
        "        If mode == P_NOWAIT return the pid of the process.\n",
        "        If mode == P_WAIT return the process's exit code if it exits normally;\n",
        "        otherwise return -SIG, where SIG is the signal that killed it.\n",
        "    \n",
        "    spawnle(mode, file, *args)\n",
        "        spawnle(mode, file, *args, env) -> integer\n",
        "        \n",
        "        Execute file with arguments from args in a subprocess with the\n",
        "        supplied environment.\n",
        "        If mode == P_NOWAIT return the pid of the process.\n",
        "        If mode == P_WAIT return the process's exit code if it exits normally;\n",
        "        otherwise return -SIG, where SIG is the signal that killed it.\n",
        "    \n",
        "    spawnlp(mode, file, *args)\n",
        "        spawnlp(mode, file, *args) -> integer\n",
        "        \n",
        "        Execute file (which is looked for along $PATH) with arguments from\n",
        "        args in a subprocess with the supplied environment.\n",
        "        If mode == P_NOWAIT return the pid of the process.\n",
        "        If mode == P_WAIT return the process's exit code if it exits normally;\n",
        "        otherwise return -SIG, where SIG is the signal that killed it.\n",
        "    \n",
        "    spawnlpe(mode, file, *args)\n",
        "        spawnlpe(mode, file, *args, env) -> integer\n",
        "        \n",
        "        Execute file (which is looked for along $PATH) with arguments from\n",
        "        args in a subprocess with the supplied environment.\n",
        "        If mode == P_NOWAIT return the pid of the process.\n",
        "        If mode == P_WAIT return the process's exit code if it exits normally;\n",
        "        otherwise return -SIG, where SIG is the signal that killed it.\n",
        "    \n",
        "    spawnv(mode, file, args)\n",
        "        spawnv(mode, file, args) -> integer\n",
        "        \n",
        "        Execute file with arguments from args in a subprocess.\n",
        "        If mode == P_NOWAIT return the pid of the process.\n",
        "        If mode == P_WAIT return the process's exit code if it exits normally;\n",
        "        otherwise return -SIG, where SIG is the signal that killed it.\n",
        "    \n",
        "    spawnve(mode, file, args, env)\n",
        "        spawnve(mode, file, args, env) -> integer\n",
        "        \n",
        "        Execute file with arguments from args in a subprocess with the\n",
        "        specified environment.\n",
        "        If mode == P_NOWAIT return the pid of the process.\n",
        "        If mode == P_WAIT return the process's exit code if it exits normally;\n",
        "        otherwise return -SIG, where SIG is the signal that killed it.\n",
        "    \n",
        "    spawnvp(mode, file, args)\n",
        "        spawnvp(mode, file, args) -> integer\n",
        "        \n",
        "        Execute file (which is looked for along $PATH) with arguments from\n",
        "        args in a subprocess.\n",
        "        If mode == P_NOWAIT return the pid of the process.\n",
        "        If mode == P_WAIT return the process's exit code if it exits normally;\n",
        "        otherwise return -SIG, where SIG is the signal that killed it.\n",
        "    \n",
        "    spawnvpe(mode, file, args, env)\n",
        "        spawnvpe(mode, file, args, env) -> integer\n",
        "        \n",
        "        Execute file (which is looked for along $PATH) with arguments from\n",
        "        args in a subprocess with the supplied environment.\n",
        "        If mode == P_NOWAIT return the pid of the process.\n",
        "        If mode == P_WAIT return the process's exit code if it exits normally;\n",
        "        otherwise return -SIG, where SIG is the signal that killed it.\n",
        "    \n",
        "    stat(...)\n",
        "        stat(path) -> stat result\n",
        "        \n",
        "        Perform a stat system call on the given path.\n",
        "    \n",
        "    stat_float_times(...)\n",
        "        stat_float_times([newval]) -> oldval\n",
        "        \n",
        "        Determine whether os.[lf]stat represents time stamps as float objects.\n",
        "        If newval is True, future calls to stat() return floats, if it is False,\n",
        "        future calls return ints. \n",
        "        If newval is omitted, return the current setting.\n",
        "    \n",
        "    statvfs(...)\n",
        "        statvfs(path) -> statvfs result\n",
        "        \n",
        "        Perform a statvfs system call on the given path.\n",
        "    \n",
        "    strerror(...)\n",
        "        strerror(code) -> string\n",
        "        \n",
        "        Translate an error code to a message string.\n",
        "    \n",
        "    symlink(...)\n",
        "        symlink(src, dst)\n",
        "        \n",
        "        Create a symbolic link pointing to src named dst.\n",
        "    \n",
        "    sysconf(...)\n",
        "        sysconf(name) -> integer\n",
        "        \n",
        "        Return an integer-valued system configuration variable.\n",
        "    \n",
        "    system(...)\n",
        "        system(command) -> exit_status\n",
        "        \n",
        "        Execute the command (a string) in a subshell.\n",
        "    \n",
        "    tcgetpgrp(...)\n",
        "        tcgetpgrp(fd) -> pgid\n",
        "        \n",
        "        Return the process group associated with the terminal given by a fd.\n",
        "    \n",
        "    tcsetpgrp(...)\n",
        "        tcsetpgrp(fd, pgid)\n",
        "        \n",
        "        Set the process group associated with the terminal given by a fd.\n",
        "    \n",
        "    tempnam(...)\n",
        "        tempnam([dir[, prefix]]) -> string\n",
        "        \n",
        "        Return a unique name for a temporary file.\n",
        "        The directory and a prefix may be specified as strings; they may be omitted\n",
        "        or None if not needed.\n",
        "    \n",
        "    times(...)\n",
        "        times() -> (utime, stime, cutime, cstime, elapsed_time)\n",
        "        \n",
        "        Return a tuple of floating point numbers indicating process times.\n",
        "    \n",
        "    tmpfile(...)\n",
        "        tmpfile() -> file object\n",
        "        \n",
        "        Create a temporary file with no directory entries.\n",
        "    \n",
        "    tmpnam(...)\n",
        "        tmpnam() -> string\n",
        "        \n",
        "        Return a unique name for a temporary file.\n",
        "    \n",
        "    ttyname(...)\n",
        "        ttyname(fd) -> string\n",
        "        \n",
        "        Return the name of the terminal device connected to 'fd'.\n",
        "    \n",
        "    umask(...)\n",
        "        umask(new_mask) -> old_mask\n",
        "        \n",
        "        Set the current numeric umask and return the previous umask.\n",
        "    \n",
        "    uname(...)\n",
        "        uname() -> (sysname, nodename, release, version, machine)\n",
        "        \n",
        "        Return a tuple identifying the current operating system.\n",
        "    \n",
        "    unlink(...)\n",
        "        unlink(path)\n",
        "        \n",
        "        Remove a file (same as remove(path)).\n",
        "    \n",
        "    unsetenv(...)\n",
        "        unsetenv(key)\n",
        "        \n",
        "        Delete an environment variable.\n",
        "    \n",
        "    urandom(...)\n",
        "        urandom(n) -> str\n",
        "        \n",
        "        Return n random bytes suitable for cryptographic use.\n",
        "    \n",
        "    utime(...)\n",
        "        utime(path, (atime, mtime))\n",
        "        utime(path, None)\n",
        "        \n",
        "        Set the access and modified time of the file to the given values.  If the\n",
        "        second form is used, set the access and modified times to the current time.\n",
        "    \n",
        "    wait(...)\n",
        "        wait() -> (pid, status)\n",
        "        \n",
        "        Wait for completion of a child process.\n",
        "    \n",
        "    wait3(...)\n",
        "        wait3(options) -> (pid, status, rusage)\n",
        "        \n",
        "        Wait for completion of a child process.\n",
        "    \n",
        "    wait4(...)\n",
        "        wait4(pid, options) -> (pid, status, rusage)\n",
        "        \n",
        "        Wait for completion of a given child process.\n",
        "    \n",
        "    waitpid(...)\n",
        "        waitpid(pid, options) -> (pid, status)\n",
        "        \n",
        "        Wait for completion of a given child process.\n",
        "    \n",
        "    walk(top, topdown=True, onerror=None, followlinks=False)\n",
        "        Directory tree generator.\n",
        "        \n",
        "        For each directory in the directory tree rooted at top (including top\n",
        "        itself, but excluding '.' and '..'), yields a 3-tuple\n",
        "        \n",
        "            dirpath, dirnames, filenames\n",
        "        \n",
        "        dirpath is a string, the path to the directory.  dirnames is a list of\n",
        "        the names of the subdirectories in dirpath (excluding '.' and '..').\n",
        "        filenames is a list of the names of the non-directory files in dirpath.\n",
        "        Note that the names in the lists are just names, with no path components.\n",
        "        To get a full path (which begins with top) to a file or directory in\n",
        "        dirpath, do os.path.join(dirpath, name).\n",
        "        \n",
        "        If optional arg 'topdown' is true or not specified, the triple for a\n",
        "        directory is generated before the triples for any of its subdirectories\n",
        "        (directories are generated top down).  If topdown is false, the triple\n",
        "        for a directory is generated after the triples for all of its\n",
        "        subdirectories (directories are generated bottom up).\n",
        "        \n",
        "        When topdown is true, the caller can modify the dirnames list in-place\n",
        "        (e.g., via del or slice assignment), and walk will only recurse into the\n",
        "        subdirectories whose names remain in dirnames; this can be used to prune the\n",
        "        search, or to impose a specific order of visiting.  Modifying dirnames when\n",
        "        topdown is false is ineffective, since the directories in dirnames have\n",
        "        already been generated by the time dirnames itself is generated. No matter\n",
        "        the value of topdown, the list of subdirectories is retrieved before the\n",
        "        tuples for the directory and its subdirectories are generated.\n",
        "        \n",
        "        By default errors from the os.listdir() call are ignored.  If\n",
        "        optional arg 'onerror' is specified, it should be a function; it\n",
        "        will be called with one argument, an os.error instance.  It can\n",
        "        report the error to continue with the walk, or raise the exception\n",
        "        to abort the walk.  Note that the filename is available as the\n",
        "        filename attribute of the exception object.\n",
        "        \n",
        "        By default, os.walk does not follow symbolic links to subdirectories on\n",
        "        systems that support them.  In order to get this functionality, set the\n",
        "        optional argument 'followlinks' to true.\n",
        "        \n",
        "        Caution:  if you pass a relative pathname for top, don't change the\n",
        "        current working directory between resumptions of walk.  walk never\n",
        "        changes the current directory, and assumes that the client doesn't\n",
        "        either.\n",
        "        \n",
        "        Example:\n",
        "        \n",
        "        import os\n",
        "        from os.path import join, getsize\n",
        "        for root, dirs, files in os.walk('python/Lib/email'):\n",
        "            print root, \"consumes\",\n",
        "            print sum([getsize(join(root, name)) for name in files]),\n",
        "            print \"bytes in\", len(files), \"non-directory files\"\n",
        "            if 'CVS' in dirs:\n",
        "                dirs.remove('CVS')  # don't visit CVS directories\n",
        "    \n",
        "    write(...)\n",
        "        write(fd, string) -> byteswritten\n",
        "        \n",
        "        Write a string to a file descriptor.\n",
        "\n",
        "DATA\n",
        "    EX_CANTCREAT = 73\n",
        "    EX_CONFIG = 78\n",
        "    EX_DATAERR = 65\n",
        "    EX_IOERR = 74\n",
        "    EX_NOHOST = 68\n",
        "    EX_NOINPUT = 66\n",
        "    EX_NOPERM = 77\n",
        "    EX_NOUSER = 67\n",
        "    EX_OK = 0\n",
        "    EX_OSERR = 71\n",
        "    EX_OSFILE = 72\n",
        "    EX_PROTOCOL = 76\n",
        "    EX_SOFTWARE = 70\n",
        "    EX_TEMPFAIL = 75\n",
        "    EX_UNAVAILABLE = 69\n",
        "    EX_USAGE = 64\n",
        "    F_OK = 0\n",
        "    NGROUPS_MAX = 16\n",
        "    O_APPEND = 8\n",
        "    O_ASYNC = 64\n",
        "    O_CREAT = 512\n",
        "    O_DIRECTORY = 1048576\n",
        "    O_DSYNC = 4194304\n",
        "    O_EXCL = 2048\n",
        "    O_EXLOCK = 32\n",
        "    O_NDELAY = 4\n",
        "    O_NOCTTY = 131072\n",
        "    O_NOFOLLOW = 256\n",
        "    O_NONBLOCK = 4\n",
        "    O_RDONLY = 0\n",
        "    O_RDWR = 2\n",
        "    O_SHLOCK = 16\n",
        "    O_SYNC = 128\n",
        "    O_TRUNC = 1024\n",
        "    O_WRONLY = 1\n",
        "    R_OK = 4\n",
        "    SEEK_CUR = 1\n",
        "    SEEK_END = 2\n",
        "    SEEK_SET = 0\n",
        "    TMP_MAX = 308915776\n",
        "    WCONTINUED = 16\n",
        "    WNOHANG = 1\n",
        "    WUNTRACED = 2\n",
        "    W_OK = 2\n",
        "    X_OK = 1\n",
        "    __all__ = ['altsep', 'curdir', 'pardir', 'sep', 'extsep', 'pathsep', '...\n",
        "    altsep = None\n",
        "    confstr_names = {'CS_PATH': 1, 'CS_XBS5_ILP32_OFF32_CFLAGS': 20, 'CS_X...\n",
        "    curdir = '.'\n",
        "    defpath = ':/bin:/usr/bin'\n",
        "    devnull = '/dev/null'\n",
        "    environ = {'rvm_version': '1.26.2 (latest)', 'rvm_path': '...on': '10....\n",
        "    extsep = '.'\n",
        "    linesep = '\\n'\n",
        "    name = 'posix'\n",
        "    pardir = '..'\n",
        "    pathconf_names = {'PC_ASYNC_IO': 17, 'PC_CHOWN_RESTRICTED': 7, 'PC_FIL...\n",
        "    pathsep = ':'\n",
        "    sep = '/'\n",
        "    sysconf_names = {'SC_2_CHAR_TERM': 20, 'SC_2_C_BIND': 18, 'SC_2_C_DEV'...\n",
        "\n",
        "\n"
       ]
      }
     ],
     "prompt_number": 17
    },
    {
     "cell_type": "code",
     "collapsed": false,
     "input": [
      "help(os.path.isdir)"
     ],
     "language": "python",
     "metadata": {},
     "outputs": [
      {
       "output_type": "stream",
       "stream": "stdout",
       "text": [
        "Help on function isdir in module genericpath:\n",
        "\n",
        "isdir(s)\n",
        "    Return true if the pathname refers to an existing directory.\n",
        "\n"
       ]
      }
     ],
     "prompt_number": 18
    },
    {
     "cell_type": "markdown",
     "metadata": {},
     "source": [
      "---"
     ]
    },
    {
     "cell_type": "markdown",
     "metadata": {},
     "source": [
      "### Packages"
     ]
    },
    {
     "cell_type": "markdown",
     "metadata": {},
     "source": [
      "Any folder with a `__init__.py` file is considered as a python package"
     ]
    },
    {
     "cell_type": "code",
     "collapsed": false,
     "input": [
      "import utils.math"
     ],
     "language": "python",
     "metadata": {},
     "outputs": [],
     "prompt_number": 19
    },
    {
     "cell_type": "code",
     "collapsed": false,
     "input": [
      "utils.math.square(6)"
     ],
     "language": "python",
     "metadata": {},
     "outputs": [
      {
       "metadata": {},
       "output_type": "pyout",
       "prompt_number": 20,
       "text": [
        "36"
       ]
      }
     ],
     "prompt_number": 20
    },
    {
     "cell_type": "code",
     "collapsed": false,
     "input": [
      "from utils.math import square as sq"
     ],
     "language": "python",
     "metadata": {},
     "outputs": [],
     "prompt_number": 21
    },
    {
     "cell_type": "code",
     "collapsed": false,
     "input": [
      "sq(2)"
     ],
     "language": "python",
     "metadata": {},
     "outputs": [
      {
       "metadata": {},
       "output_type": "pyout",
       "prompt_number": 22,
       "text": [
        "4"
       ]
      }
     ],
     "prompt_number": 22
    },
    {
     "cell_type": "markdown",
     "metadata": {},
     "source": [
      "---"
     ]
    },
    {
     "cell_type": "markdown",
     "metadata": {},
     "source": [
      "### Functions"
     ]
    },
    {
     "cell_type": "code",
     "collapsed": false,
     "input": [
      "def say_hello():\n",
      "    print \"Hello\"\n",
      "    print \"Hello\"\n",
      "    print \"Hello\"\n",
      "    print \"Hello\"\n",
      "    print \"Hello\"\n",
      "    print \"Hello\"\n",
      "    print \"Hello\"\n",
      "    print \"Hello\"\n",
      "print \"world\""
     ],
     "language": "python",
     "metadata": {},
     "outputs": [
      {
       "output_type": "stream",
       "stream": "stdout",
       "text": [
        "world\n"
       ]
      }
     ],
     "prompt_number": 23
    },
    {
     "cell_type": "code",
     "collapsed": false,
     "input": [
      "say_hello()"
     ],
     "language": "python",
     "metadata": {},
     "outputs": [
      {
       "output_type": "stream",
       "stream": "stdout",
       "text": [
        "Hello\n",
        "Hello\n",
        "Hello\n",
        "Hello\n",
        "Hello\n",
        "Hello\n",
        "Hello\n",
        "Hello\n"
       ]
      }
     ],
     "prompt_number": 24
    },
    {
     "cell_type": "code",
     "collapsed": false,
     "input": [
      "def say_hello(name):\n",
      "    a = 1+1\n",
      "print a\n",
      "    print \"Hello, \" + name + \"!\"\n"
     ],
     "language": "python",
     "metadata": {},
     "outputs": [
      {
       "ename": "IndentationError",
       "evalue": "unexpected indent (<ipython-input-25-dfa997f06ab4>, line 4)",
       "output_type": "pyerr",
       "traceback": [
        "\u001b[0;36m  File \u001b[0;32m\"<ipython-input-25-dfa997f06ab4>\"\u001b[0;36m, line \u001b[0;32m4\u001b[0m\n\u001b[0;31m    print \"Hello, \" + name + \"!\"\u001b[0m\n\u001b[0m    ^\u001b[0m\n\u001b[0;31mIndentationError\u001b[0m\u001b[0;31m:\u001b[0m unexpected indent\n"
       ]
      }
     ],
     "prompt_number": 25
    },
    {
     "cell_type": "code",
     "collapsed": false,
     "input": [
      "say_hello(\"Chennaipy\")"
     ],
     "language": "python",
     "metadata": {},
     "outputs": [
      {
       "ename": "TypeError",
       "evalue": "say_hello() takes no arguments (1 given)",
       "output_type": "pyerr",
       "traceback": [
        "\u001b[0;31m---------------------------------------------------------------------------\u001b[0m\n\u001b[0;31mTypeError\u001b[0m                                 Traceback (most recent call last)",
        "\u001b[0;32m<ipython-input-26-218194ab09c1>\u001b[0m in \u001b[0;36m<module>\u001b[0;34m()\u001b[0m\n\u001b[0;32m----> 1\u001b[0;31m \u001b[0msay_hello\u001b[0m\u001b[0;34m(\u001b[0m\u001b[0;34m\"Chennaipy\"\u001b[0m\u001b[0;34m)\u001b[0m\u001b[0;34m\u001b[0m\u001b[0m\n\u001b[0m",
        "\u001b[0;31mTypeError\u001b[0m: say_hello() takes no arguments (1 given)"
       ]
      }
     ],
     "prompt_number": 26
    },
    {
     "cell_type": "markdown",
     "metadata": {},
     "source": [
      "---"
     ]
    },
    {
     "cell_type": "markdown",
     "metadata": {},
     "source": [
      "### Conditions"
     ]
    },
    {
     "cell_type": "code",
     "collapsed": false,
     "input": [
      "def say_hello_multiple_times(times, name):\n",
      "    i=0\n",
      "    while i<times:\n",
      "        print \"Hello\", name\n",
      "        i += 1"
     ],
     "language": "python",
     "metadata": {},
     "outputs": [],
     "prompt_number": 27
    },
    {
     "cell_type": "code",
     "collapsed": false,
     "input": [
      "say_hello_multiple_times(5, \"Bob\")"
     ],
     "language": "python",
     "metadata": {},
     "outputs": [
      {
       "output_type": "stream",
       "stream": "stdout",
       "text": [
        "Hello Bob\n",
        "Hello Bob\n",
        "Hello Bob\n",
        "Hello Bob\n",
        "Hello Bob\n"
       ]
      }
     ],
     "prompt_number": 28
    },
    {
     "cell_type": "code",
     "collapsed": false,
     "input": [
      "########################################\n",
      "#say_hello_multiple_times(\"boo\",\"bob\") #\n",
      "########################################\n",
      "\n",
      "# Beware! The above code will result in an infinite loop"
     ],
     "language": "python",
     "metadata": {},
     "outputs": [],
     "prompt_number": 29
    },
    {
     "cell_type": "code",
     "collapsed": false,
     "input": [
      "def say_hello(name):\n",
      "    if name == \"Chennaipy\":\n",
      "        name = name + \"!!!\"\n",
      "    print \"Hello\", name"
     ],
     "language": "python",
     "metadata": {},
     "outputs": [],
     "prompt_number": 30
    },
    {
     "cell_type": "code",
     "collapsed": false,
     "input": [
      "say_hello(\"world\")"
     ],
     "language": "python",
     "metadata": {},
     "outputs": [
      {
       "output_type": "stream",
       "stream": "stdout",
       "text": [
        "Hello world\n"
       ]
      }
     ],
     "prompt_number": 31
    },
    {
     "cell_type": "code",
     "collapsed": false,
     "input": [
      "say_hello(\"Chennaipy\")"
     ],
     "language": "python",
     "metadata": {},
     "outputs": [
      {
       "output_type": "stream",
       "stream": "stdout",
       "text": [
        "Hello Chennaipy!!!\n"
       ]
      }
     ],
     "prompt_number": 32
    },
    {
     "cell_type": "markdown",
     "metadata": {},
     "source": [
      "#### Logical connectors"
     ]
    },
    {
     "cell_type": "markdown",
     "metadata": {},
     "source": [
      "`or`, `and`, `not`"
     ]
    },
    {
     "cell_type": "code",
     "collapsed": false,
     "input": [
      "0 < \"boo\""
     ],
     "language": "python",
     "metadata": {},
     "outputs": [
      {
       "metadata": {},
       "output_type": "pyout",
       "prompt_number": 33,
       "text": [
        "True"
       ]
      }
     ],
     "prompt_number": 33
    },
    {
     "cell_type": "code",
     "collapsed": false,
     "input": [
      "5 < \"boo\""
     ],
     "language": "python",
     "metadata": {},
     "outputs": [
      {
       "metadata": {},
       "output_type": "pyout",
       "prompt_number": 34,
       "text": [
        "True"
       ]
      }
     ],
     "prompt_number": 34
    },
    {
     "cell_type": "code",
     "collapsed": false,
     "input": [
      "int(\"0\")"
     ],
     "language": "python",
     "metadata": {},
     "outputs": [
      {
       "metadata": {},
       "output_type": "pyout",
       "prompt_number": 35,
       "text": [
        "0"
       ]
      }
     ],
     "prompt_number": 35
    },
    {
     "cell_type": "code",
     "collapsed": false,
     "input": [
      "def say_hello(name):\n",
      "    if name == \"Chennaipy\" or name == \"Bangpypers\":\n",
      "        name = name + \"!!!\"\n",
      "    print \"Hello\", name"
     ],
     "language": "python",
     "metadata": {},
     "outputs": [],
     "prompt_number": 36
    },
    {
     "cell_type": "code",
     "collapsed": false,
     "input": [
      "say_hello(\"World\")"
     ],
     "language": "python",
     "metadata": {},
     "outputs": [
      {
       "output_type": "stream",
       "stream": "stdout",
       "text": [
        "Hello World\n"
       ]
      }
     ],
     "prompt_number": 37
    },
    {
     "cell_type": "code",
     "collapsed": false,
     "input": [
      "say_hello(\"Chennaipy\")"
     ],
     "language": "python",
     "metadata": {},
     "outputs": [
      {
       "output_type": "stream",
       "stream": "stdout",
       "text": [
        "Hello Chennaipy!!!\n"
       ]
      }
     ],
     "prompt_number": 38
    },
    {
     "cell_type": "code",
     "collapsed": false,
     "input": [
      "say_hello(\"Bangpypers\")"
     ],
     "language": "python",
     "metadata": {},
     "outputs": [
      {
       "output_type": "stream",
       "stream": "stdout",
       "text": [
        "Hello Bangpypers!!!\n"
       ]
      }
     ],
     "prompt_number": 39
    },
    {
     "cell_type": "markdown",
     "metadata": {},
     "source": [
      "---"
     ]
    },
    {
     "cell_type": "markdown",
     "metadata": {},
     "source": [
      "#### `Else` statements"
     ]
    },
    {
     "cell_type": "code",
     "collapsed": false,
     "input": [
      "def say_hello(name):\n",
      "    if name == \"Chennaipy\":\n",
      "        name = name + \"!!!\"\n",
      "    else:\n",
      "        name = name + \"???\"\n",
      "    print \"Hello\", name"
     ],
     "language": "python",
     "metadata": {},
     "outputs": [],
     "prompt_number": 40
    },
    {
     "cell_type": "code",
     "collapsed": false,
     "input": [
      "say_hello(\"Chennaipy\")"
     ],
     "language": "python",
     "metadata": {},
     "outputs": [
      {
       "output_type": "stream",
       "stream": "stdout",
       "text": [
        "Hello Chennaipy!!!\n"
       ]
      }
     ],
     "prompt_number": 41
    },
    {
     "cell_type": "code",
     "collapsed": false,
     "input": [
      "say_hello(\"world\")"
     ],
     "language": "python",
     "metadata": {},
     "outputs": [
      {
       "output_type": "stream",
       "stream": "stdout",
       "text": [
        "Hello world???\n"
       ]
      }
     ],
     "prompt_number": 42
    },
    {
     "cell_type": "markdown",
     "metadata": {},
     "source": [
      "---"
     ]
    },
    {
     "cell_type": "markdown",
     "metadata": {},
     "source": [
      "### Laaaazy"
     ]
    },
    {
     "cell_type": "code",
     "collapsed": false,
     "input": [
      "def say_hello(name):\n",
      "    if name == \"Chennaipy\":\n",
      "        name = name + \"!!!\"\n",
      "    else:\n",
      "        BeHorribleToThisPerson()\n",
      "    print \"Hello\", name"
     ],
     "language": "python",
     "metadata": {},
     "outputs": [],
     "prompt_number": 43
    },
    {
     "cell_type": "code",
     "collapsed": false,
     "input": [
      "say_hello(\"Chennaipy\")"
     ],
     "language": "python",
     "metadata": {},
     "outputs": [
      {
       "output_type": "stream",
       "stream": "stdout",
       "text": [
        "Hello Chennaipy!!!\n"
       ]
      }
     ],
     "prompt_number": 44
    },
    {
     "cell_type": "code",
     "collapsed": false,
     "input": [
      "say_hello(\"Boo\")"
     ],
     "language": "python",
     "metadata": {},
     "outputs": [
      {
       "ename": "NameError",
       "evalue": "global name 'BeHorribleToThisPerson' is not defined",
       "output_type": "pyerr",
       "traceback": [
        "\u001b[0;31m---------------------------------------------------------------------------\u001b[0m\n\u001b[0;31mNameError\u001b[0m                                 Traceback (most recent call last)",
        "\u001b[0;32m<ipython-input-45-58f76f09c33e>\u001b[0m in \u001b[0;36m<module>\u001b[0;34m()\u001b[0m\n\u001b[0;32m----> 1\u001b[0;31m \u001b[0msay_hello\u001b[0m\u001b[0;34m(\u001b[0m\u001b[0;34m\"Boo\"\u001b[0m\u001b[0;34m)\u001b[0m\u001b[0;34m\u001b[0m\u001b[0m\n\u001b[0m",
        "\u001b[0;32m<ipython-input-43-cc86592df731>\u001b[0m in \u001b[0;36msay_hello\u001b[0;34m(name)\u001b[0m\n\u001b[1;32m      3\u001b[0m         \u001b[0mname\u001b[0m \u001b[0;34m=\u001b[0m \u001b[0mname\u001b[0m \u001b[0;34m+\u001b[0m \u001b[0;34m\"!!!\"\u001b[0m\u001b[0;34m\u001b[0m\u001b[0m\n\u001b[1;32m      4\u001b[0m     \u001b[0;32melse\u001b[0m\u001b[0;34m:\u001b[0m\u001b[0;34m\u001b[0m\u001b[0m\n\u001b[0;32m----> 5\u001b[0;31m         \u001b[0mBeHorribleToThisPerson\u001b[0m\u001b[0;34m(\u001b[0m\u001b[0;34m)\u001b[0m\u001b[0;34m\u001b[0m\u001b[0m\n\u001b[0m\u001b[1;32m      6\u001b[0m     \u001b[0;32mprint\u001b[0m \u001b[0;34m\"Hello\"\u001b[0m\u001b[0;34m,\u001b[0m \u001b[0mname\u001b[0m\u001b[0;34m\u001b[0m\u001b[0m\n",
        "\u001b[0;31mNameError\u001b[0m: global name 'BeHorribleToThisPerson' is not defined"
       ]
      }
     ],
     "prompt_number": 45
    },
    {
     "cell_type": "markdown",
     "metadata": {},
     "source": [
      "---"
     ]
    },
    {
     "cell_type": "markdown",
     "metadata": {},
     "source": [
      "### Strings"
     ]
    },
    {
     "cell_type": "code",
     "collapsed": false,
     "input": [
      "foo = 'foo'"
     ],
     "language": "python",
     "metadata": {},
     "outputs": [],
     "prompt_number": 46
    },
    {
     "cell_type": "code",
     "collapsed": false,
     "input": [
      "foo"
     ],
     "language": "python",
     "metadata": {},
     "outputs": [
      {
       "metadata": {},
       "output_type": "pyout",
       "prompt_number": 47,
       "text": [
        "'foo'"
       ]
      }
     ],
     "prompt_number": 47
    },
    {
     "cell_type": "code",
     "collapsed": false,
     "input": [
      "foo = \"foo\""
     ],
     "language": "python",
     "metadata": {},
     "outputs": [],
     "prompt_number": 48
    },
    {
     "cell_type": "code",
     "collapsed": false,
     "input": [
      "foo"
     ],
     "language": "python",
     "metadata": {},
     "outputs": [
      {
       "metadata": {},
       "output_type": "pyout",
       "prompt_number": 49,
       "text": [
        "'foo'"
       ]
      }
     ],
     "prompt_number": 49
    },
    {
     "cell_type": "code",
     "collapsed": false,
     "input": [
      "foos = \"foo's\""
     ],
     "language": "python",
     "metadata": {},
     "outputs": [],
     "prompt_number": 50
    },
    {
     "cell_type": "code",
     "collapsed": false,
     "input": [
      "foos"
     ],
     "language": "python",
     "metadata": {},
     "outputs": [
      {
       "metadata": {},
       "output_type": "pyout",
       "prompt_number": 51,
       "text": [
        "\"foo's\""
       ]
      }
     ],
     "prompt_number": 51
    },
    {
     "cell_type": "code",
     "collapsed": false,
     "input": [
      "foos = 'foo\\'s'"
     ],
     "language": "python",
     "metadata": {},
     "outputs": [],
     "prompt_number": 52
    },
    {
     "cell_type": "code",
     "collapsed": false,
     "input": [
      "foos"
     ],
     "language": "python",
     "metadata": {},
     "outputs": [
      {
       "metadata": {},
       "output_type": "pyout",
       "prompt_number": 53,
       "text": [
        "\"foo's\""
       ]
      }
     ],
     "prompt_number": 53
    },
    {
     "cell_type": "code",
     "collapsed": false,
     "input": [
      "len(foo)"
     ],
     "language": "python",
     "metadata": {},
     "outputs": [
      {
       "metadata": {},
       "output_type": "pyout",
       "prompt_number": 54,
       "text": [
        "3"
       ]
      }
     ],
     "prompt_number": 54
    },
    {
     "cell_type": "markdown",
     "metadata": {},
     "source": [
      "#### Slicing"
     ]
    },
    {
     "cell_type": "code",
     "collapsed": false,
     "input": [
      "foo"
     ],
     "language": "python",
     "metadata": {},
     "outputs": [
      {
       "metadata": {},
       "output_type": "pyout",
       "prompt_number": 55,
       "text": [
        "'foo'"
       ]
      }
     ],
     "prompt_number": 55
    },
    {
     "cell_type": "code",
     "collapsed": false,
     "input": [
      "foo[0]"
     ],
     "language": "python",
     "metadata": {},
     "outputs": [
      {
       "metadata": {},
       "output_type": "pyout",
       "prompt_number": 56,
       "text": [
        "'f'"
       ]
      }
     ],
     "prompt_number": 56
    },
    {
     "cell_type": "code",
     "collapsed": false,
     "input": [
      "foo[0] + foo[1]"
     ],
     "language": "python",
     "metadata": {},
     "outputs": [
      {
       "metadata": {},
       "output_type": "pyout",
       "prompt_number": 57,
       "text": [
        "'fo'"
       ]
      }
     ],
     "prompt_number": 57
    },
    {
     "cell_type": "code",
     "collapsed": false,
     "input": [
      "foo[:2]"
     ],
     "language": "python",
     "metadata": {},
     "outputs": [
      {
       "metadata": {},
       "output_type": "pyout",
       "prompt_number": 58,
       "text": [
        "'fo'"
       ]
      }
     ],
     "prompt_number": 58
    },
    {
     "cell_type": "code",
     "collapsed": false,
     "input": [
      "foo[1:]"
     ],
     "language": "python",
     "metadata": {},
     "outputs": [
      {
       "metadata": {},
       "output_type": "pyout",
       "prompt_number": 59,
       "text": [
        "'oo'"
       ]
      }
     ],
     "prompt_number": 59
    },
    {
     "cell_type": "code",
     "collapsed": false,
     "input": [
      "foo = \"foobarbazbuff\""
     ],
     "language": "python",
     "metadata": {},
     "outputs": [],
     "prompt_number": 60
    },
    {
     "cell_type": "code",
     "collapsed": false,
     "input": [
      "len(foo)"
     ],
     "language": "python",
     "metadata": {},
     "outputs": [
      {
       "metadata": {},
       "output_type": "pyout",
       "prompt_number": 61,
       "text": [
        "13"
       ]
      }
     ],
     "prompt_number": 61
    },
    {
     "cell_type": "code",
     "collapsed": false,
     "input": [
      "foo[2:7]"
     ],
     "language": "python",
     "metadata": {},
     "outputs": [
      {
       "metadata": {},
       "output_type": "pyout",
       "prompt_number": 62,
       "text": [
        "'obarb'"
       ]
      }
     ],
     "prompt_number": 62
    },
    {
     "cell_type": "code",
     "collapsed": false,
     "input": [
      "foo[7:]"
     ],
     "language": "python",
     "metadata": {},
     "outputs": [
      {
       "metadata": {},
       "output_type": "pyout",
       "prompt_number": 63,
       "text": [
        "'azbuff'"
       ]
      }
     ],
     "prompt_number": 63
    },
    {
     "cell_type": "code",
     "collapsed": false,
     "input": [
      "foo[:-2]"
     ],
     "language": "python",
     "metadata": {},
     "outputs": [
      {
       "metadata": {},
       "output_type": "pyout",
       "prompt_number": 64,
       "text": [
        "'foobarbazbu'"
       ]
      }
     ],
     "prompt_number": 64
    },
    {
     "cell_type": "code",
     "collapsed": false,
     "input": [
      "foo[2:-6]"
     ],
     "language": "python",
     "metadata": {},
     "outputs": [
      {
       "metadata": {},
       "output_type": "pyout",
       "prompt_number": 65,
       "text": [
        "'obarb'"
       ]
      }
     ],
     "prompt_number": 65
    },
    {
     "cell_type": "code",
     "collapsed": false,
     "input": [
      "level = \"level\""
     ],
     "language": "python",
     "metadata": {},
     "outputs": [],
     "prompt_number": 66
    },
    {
     "cell_type": "code",
     "collapsed": false,
     "input": [
      "level"
     ],
     "language": "python",
     "metadata": {},
     "outputs": [
      {
       "metadata": {},
       "output_type": "pyout",
       "prompt_number": 67,
       "text": [
        "'level'"
       ]
      }
     ],
     "prompt_number": 67
    },
    {
     "cell_type": "code",
     "collapsed": false,
     "input": [
      "len(\"level\")"
     ],
     "language": "python",
     "metadata": {},
     "outputs": [
      {
       "metadata": {},
       "output_type": "pyout",
       "prompt_number": 68,
       "text": [
        "5"
       ]
      }
     ],
     "prompt_number": 68
    },
    {
     "cell_type": "code",
     "collapsed": false,
     "input": [
      "\"level\"[::-1] == \"level\""
     ],
     "language": "python",
     "metadata": {},
     "outputs": [
      {
       "metadata": {},
       "output_type": "pyout",
       "prompt_number": 69,
       "text": [
        "True"
       ]
      }
     ],
     "prompt_number": 69
    },
    {
     "cell_type": "code",
     "collapsed": false,
     "input": [
      "def is_palindrome(string):\n",
      "    return string[::-1] == string"
     ],
     "language": "python",
     "metadata": {},
     "outputs": [],
     "prompt_number": 70
    },
    {
     "cell_type": "code",
     "collapsed": false,
     "input": [
      "is_palindrome(\"level\")"
     ],
     "language": "python",
     "metadata": {},
     "outputs": [
      {
       "metadata": {},
       "output_type": "pyout",
       "prompt_number": 71,
       "text": [
        "True"
       ]
      }
     ],
     "prompt_number": 71
    },
    {
     "cell_type": "markdown",
     "metadata": {},
     "source": [
      "---"
     ]
    },
    {
     "cell_type": "markdown",
     "metadata": {},
     "source": [
      "#### Immutability"
     ]
    },
    {
     "cell_type": "markdown",
     "metadata": {},
     "source": [
      "A string channot be changed once a value has been assigned to it"
     ]
    },
    {
     "cell_type": "code",
     "collapsed": false,
     "input": [
      "n40 = \"Fourty\"\n",
      "n2 = \"Two\""
     ],
     "language": "python",
     "metadata": {},
     "outputs": [],
     "prompt_number": 72
    },
    {
     "cell_type": "code",
     "collapsed": false,
     "input": [
      "n40 + n2"
     ],
     "language": "python",
     "metadata": {},
     "outputs": [
      {
       "metadata": {},
       "output_type": "pyout",
       "prompt_number": 73,
       "text": [
        "'FourtyTwo'"
       ]
      }
     ],
     "prompt_number": 73
    },
    {
     "cell_type": "code",
     "collapsed": false,
     "input": [
      "n40"
     ],
     "language": "python",
     "metadata": {},
     "outputs": [
      {
       "metadata": {},
       "output_type": "pyout",
       "prompt_number": 74,
       "text": [
        "'Fourty'"
       ]
      }
     ],
     "prompt_number": 74
    },
    {
     "cell_type": "code",
     "collapsed": false,
     "input": [
      "n2"
     ],
     "language": "python",
     "metadata": {},
     "outputs": [
      {
       "metadata": {},
       "output_type": "pyout",
       "prompt_number": 75,
       "text": [
        "'Two'"
       ]
      }
     ],
     "prompt_number": 75
    },
    {
     "cell_type": "code",
     "collapsed": false,
     "input": [
      "n42 = n40 + n2"
     ],
     "language": "python",
     "metadata": {},
     "outputs": [],
     "prompt_number": 76
    },
    {
     "cell_type": "code",
     "collapsed": false,
     "input": [
      "n42"
     ],
     "language": "python",
     "metadata": {},
     "outputs": [
      {
       "metadata": {},
       "output_type": "pyout",
       "prompt_number": 77,
       "text": [
        "'FourtyTwo'"
       ]
      }
     ],
     "prompt_number": 77
    },
    {
     "cell_type": "code",
     "collapsed": false,
     "input": [
      "n42 + \"!!!\""
     ],
     "language": "python",
     "metadata": {},
     "outputs": [
      {
       "metadata": {},
       "output_type": "pyout",
       "prompt_number": 78,
       "text": [
        "'FourtyTwo!!!'"
       ]
      }
     ],
     "prompt_number": 78
    },
    {
     "cell_type": "code",
     "collapsed": false,
     "input": [
      "n42"
     ],
     "language": "python",
     "metadata": {},
     "outputs": [
      {
       "metadata": {},
       "output_type": "pyout",
       "prompt_number": 79,
       "text": [
        "'FourtyTwo'"
       ]
      }
     ],
     "prompt_number": 79
    },
    {
     "cell_type": "markdown",
     "metadata": {},
     "source": [
      "---"
     ]
    },
    {
     "cell_type": "markdown",
     "metadata": {},
     "source": [
      "#### Builtin functions"
     ]
    },
    {
     "cell_type": "code",
     "collapsed": false,
     "input": [
      "n42"
     ],
     "language": "python",
     "metadata": {},
     "outputs": [
      {
       "metadata": {},
       "output_type": "pyout",
       "prompt_number": 80,
       "text": [
        "'FourtyTwo'"
       ]
      }
     ],
     "prompt_number": 80
    },
    {
     "cell_type": "code",
     "collapsed": false,
     "input": [
      "n42.upper()"
     ],
     "language": "python",
     "metadata": {},
     "outputs": [
      {
       "metadata": {},
       "output_type": "pyout",
       "prompt_number": 81,
       "text": [
        "'FOURTYTWO'"
       ]
      }
     ],
     "prompt_number": 81
    },
    {
     "cell_type": "code",
     "collapsed": false,
     "input": [
      "len(n42)"
     ],
     "language": "python",
     "metadata": {},
     "outputs": [
      {
       "metadata": {},
       "output_type": "pyout",
       "prompt_number": 82,
       "text": [
        "9"
       ]
      }
     ],
     "prompt_number": 82
    },
    {
     "cell_type": "code",
     "collapsed": false,
     "input": [
      "n42.capitalize()"
     ],
     "language": "python",
     "metadata": {},
     "outputs": [
      {
       "metadata": {},
       "output_type": "pyout",
       "prompt_number": 83,
       "text": [
        "'Fourtytwo'"
       ]
      }
     ],
     "prompt_number": 83
    },
    {
     "cell_type": "code",
     "collapsed": false,
     "input": [
      "n42.find(\"t\")"
     ],
     "language": "python",
     "metadata": {},
     "outputs": [
      {
       "metadata": {},
       "output_type": "pyout",
       "prompt_number": 84,
       "text": [
        "4"
       ]
      }
     ],
     "prompt_number": 84
    },
    {
     "cell_type": "code",
     "collapsed": false,
     "input": [
      "n42[n42.find(\"T\"):]"
     ],
     "language": "python",
     "metadata": {},
     "outputs": [
      {
       "metadata": {},
       "output_type": "pyout",
       "prompt_number": 85,
       "text": [
        "'Two'"
       ]
      }
     ],
     "prompt_number": 85
    },
    {
     "cell_type": "code",
     "collapsed": false,
     "input": [
      "n42.swapcase()"
     ],
     "language": "python",
     "metadata": {},
     "outputs": [
      {
       "metadata": {},
       "output_type": "pyout",
       "prompt_number": 86,
       "text": [
        "'fOURTYtWO'"
       ]
      }
     ],
     "prompt_number": 86
    },
    {
     "cell_type": "code",
     "collapsed": false,
     "input": [
      "n42 = \"                   FourtyTwo                             \""
     ],
     "language": "python",
     "metadata": {},
     "outputs": [],
     "prompt_number": 87
    },
    {
     "cell_type": "code",
     "collapsed": false,
     "input": [
      "n42"
     ],
     "language": "python",
     "metadata": {},
     "outputs": [
      {
       "metadata": {},
       "output_type": "pyout",
       "prompt_number": 88,
       "text": [
        "'                   FourtyTwo                             '"
       ]
      }
     ],
     "prompt_number": 88
    },
    {
     "cell_type": "code",
     "collapsed": false,
     "input": [
      "n42.lstrip()"
     ],
     "language": "python",
     "metadata": {},
     "outputs": [
      {
       "metadata": {},
       "output_type": "pyout",
       "prompt_number": 89,
       "text": [
        "'FourtyTwo                             '"
       ]
      }
     ],
     "prompt_number": 89
    },
    {
     "cell_type": "code",
     "collapsed": false,
     "input": [
      "n42.rstrip()"
     ],
     "language": "python",
     "metadata": {},
     "outputs": [
      {
       "metadata": {},
       "output_type": "pyout",
       "prompt_number": 90,
       "text": [
        "'                   FourtyTwo'"
       ]
      }
     ],
     "prompt_number": 90
    },
    {
     "cell_type": "code",
     "collapsed": false,
     "input": [
      "n42"
     ],
     "language": "python",
     "metadata": {},
     "outputs": [
      {
       "metadata": {},
       "output_type": "pyout",
       "prompt_number": 91,
       "text": [
        "'                   FourtyTwo                             '"
       ]
      }
     ],
     "prompt_number": 91
    },
    {
     "cell_type": "code",
     "collapsed": false,
     "input": [
      "n42.strip()"
     ],
     "language": "python",
     "metadata": {},
     "outputs": [
      {
       "metadata": {},
       "output_type": "pyout",
       "prompt_number": 92,
       "text": [
        "'FourtyTwo'"
       ]
      }
     ],
     "prompt_number": 92
    },
    {
     "cell_type": "code",
     "collapsed": false,
     "input": [
      "n42.replace(\"Two\", \"Too\")"
     ],
     "language": "python",
     "metadata": {},
     "outputs": [
      {
       "metadata": {},
       "output_type": "pyout",
       "prompt_number": 93,
       "text": [
        "'                   FourtyToo                             '"
       ]
      }
     ],
     "prompt_number": 93
    },
    {
     "cell_type": "code",
     "collapsed": false,
     "input": [
      "n42"
     ],
     "language": "python",
     "metadata": {},
     "outputs": [
      {
       "metadata": {},
       "output_type": "pyout",
       "prompt_number": 94,
       "text": [
        "'                   FourtyTwo                             '"
       ]
      }
     ],
     "prompt_number": 94
    },
    {
     "cell_type": "code",
     "collapsed": false,
     "input": [
      "n42 = n42.strip()"
     ],
     "language": "python",
     "metadata": {},
     "outputs": [],
     "prompt_number": 95
    },
    {
     "cell_type": "code",
     "collapsed": false,
     "input": [
      "n42[0]"
     ],
     "language": "python",
     "metadata": {},
     "outputs": [
      {
       "metadata": {},
       "output_type": "pyout",
       "prompt_number": 96,
       "text": [
        "'F'"
       ]
      }
     ],
     "prompt_number": 96
    },
    {
     "cell_type": "code",
     "collapsed": false,
     "input": [
      "n42[10000]"
     ],
     "language": "python",
     "metadata": {},
     "outputs": [
      {
       "ename": "IndexError",
       "evalue": "string index out of range",
       "output_type": "pyerr",
       "traceback": [
        "\u001b[0;31m---------------------------------------------------------------------------\u001b[0m\n\u001b[0;31mIndexError\u001b[0m                                Traceback (most recent call last)",
        "\u001b[0;32m<ipython-input-97-6276fa45b12e>\u001b[0m in \u001b[0;36m<module>\u001b[0;34m()\u001b[0m\n\u001b[0;32m----> 1\u001b[0;31m \u001b[0mn42\u001b[0m\u001b[0;34m[\u001b[0m\u001b[0;36m10000\u001b[0m\u001b[0;34m]\u001b[0m\u001b[0;34m\u001b[0m\u001b[0m\n\u001b[0m",
        "\u001b[0;31mIndexError\u001b[0m: string index out of range"
       ]
      }
     ],
     "prompt_number": 97
    },
    {
     "cell_type": "code",
     "collapsed": false,
     "input": [
      "n42.startswith(\"Fo\")"
     ],
     "language": "python",
     "metadata": {},
     "outputs": [
      {
       "metadata": {},
       "output_type": "pyout",
       "prompt_number": 98,
       "text": [
        "True"
       ]
      }
     ],
     "prompt_number": 98
    },
    {
     "cell_type": "code",
     "collapsed": false,
     "input": [
      "n42.endswith(\"wo\")"
     ],
     "language": "python",
     "metadata": {},
     "outputs": [
      {
       "metadata": {},
       "output_type": "pyout",
       "prompt_number": 99,
       "text": [
        "True"
       ]
      }
     ],
     "prompt_number": 99
    },
    {
     "cell_type": "code",
     "collapsed": false,
     "input": [
      "n42.upper().lower().capitalize()"
     ],
     "language": "python",
     "metadata": {},
     "outputs": [
      {
       "metadata": {},
       "output_type": "pyout",
       "prompt_number": 100,
       "text": [
        "'Fourtytwo'"
       ]
      }
     ],
     "prompt_number": 100
    },
    {
     "cell_type": "markdown",
     "metadata": {},
     "source": [
      "---"
     ]
    },
    {
     "cell_type": "markdown",
     "metadata": {},
     "source": [
      "# Exercises"
     ]
    },
    {
     "cell_type": "markdown",
     "metadata": {},
     "source": [
      "- `basic/string1.py`\n",
      "- `basic/string2.py`"
     ]
    }
   ],
   "metadata": {}
  }
 ]
}
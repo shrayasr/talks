{
 "metadata": {
  "name": "",
  "signature": "sha256:0822fcf50986a133efffbf7c85b0326e4b4329737a492cdc4851507133ee521b"
 },
 "nbformat": 3,
 "nbformat_minor": 0,
 "worksheets": [
  {
   "cells": [
    {
     "cell_type": "markdown",
     "metadata": {},
     "source": [
      "#Imports"
     ]
    },
    {
     "cell_type": "code",
     "collapsed": false,
     "input": [
      "from sqlalchemy import create_engine"
     ],
     "language": "python",
     "metadata": {},
     "outputs": [],
     "prompt_number": 1
    },
    {
     "cell_type": "code",
     "collapsed": false,
     "input": [
      "from sqlalchemy.ext.declarative import declarative_base"
     ],
     "language": "python",
     "metadata": {},
     "outputs": [],
     "prompt_number": 2
    },
    {
     "cell_type": "code",
     "collapsed": false,
     "input": [
      "from sqlalchemy import Column, Integer, String"
     ],
     "language": "python",
     "metadata": {},
     "outputs": [],
     "prompt_number": 3
    },
    {
     "cell_type": "code",
     "collapsed": false,
     "input": [
      "from sqlalchemy.orm import Session"
     ],
     "language": "python",
     "metadata": {},
     "outputs": [],
     "prompt_number": 4
    },
    {
     "cell_type": "code",
     "collapsed": false,
     "input": [
      "from sqlalchemy.orm import relationship, backref"
     ],
     "language": "python",
     "metadata": {},
     "outputs": [],
     "prompt_number": 5
    },
    {
     "cell_type": "code",
     "collapsed": false,
     "input": [
      "from sqlalchemy import ForeignKey"
     ],
     "language": "python",
     "metadata": {},
     "outputs": [],
     "prompt_number": 6
    },
    {
     "cell_type": "code",
     "collapsed": false,
     "input": [
      "from sqlalchemy import Table"
     ],
     "language": "python",
     "metadata": {},
     "outputs": [],
     "prompt_number": 7
    },
    {
     "cell_type": "code",
     "collapsed": false,
     "input": [
      "from sqlalchemy import func"
     ],
     "language": "python",
     "metadata": {},
     "outputs": [],
     "prompt_number": 8
    },
    {
     "cell_type": "markdown",
     "metadata": {},
     "source": [
      "---"
     ]
    },
    {
     "cell_type": "markdown",
     "metadata": {},
     "source": [
      "#Setup"
     ]
    },
    {
     "cell_type": "code",
     "collapsed": false,
     "input": [
      "engine = create_engine(\"sqlite:///:memory:\", echo=False)"
     ],
     "language": "python",
     "metadata": {},
     "outputs": [],
     "prompt_number": 9
    },
    {
     "cell_type": "code",
     "collapsed": false,
     "input": [
      "Base = declarative_base(bind=engine)"
     ],
     "language": "python",
     "metadata": {},
     "outputs": [],
     "prompt_number": 10
    },
    {
     "cell_type": "code",
     "collapsed": false,
     "input": [
      "session = Session(engine)"
     ],
     "language": "python",
     "metadata": {},
     "outputs": [],
     "prompt_number": 11
    },
    {
     "cell_type": "markdown",
     "metadata": {},
     "source": [
      "---"
     ]
    },
    {
     "cell_type": "markdown",
     "metadata": {},
     "source": [
      "#Models"
     ]
    },
    {
     "cell_type": "code",
     "collapsed": false,
     "input": [
      "student_subjects = Table(\"student_subjects\", Base.metadata,\n",
      "                         Column(\"student_id\", Integer, ForeignKey(\"students.id\")),\n",
      "                         Column(\"subject_id\", Integer, ForeignKey(\"subjects.id\")))"
     ],
     "language": "python",
     "metadata": {},
     "outputs": [],
     "prompt_number": 12
    },
    {
     "cell_type": "code",
     "collapsed": false,
     "input": [
      "class Student(Base):\n",
      "    \n",
      "    __tablename__ = \"students\"\n",
      "    \n",
      "    id = Column(Integer, primary_key=True)\n",
      "    name = Column(String(50))\n",
      "    \n",
      "    subjects = relationship(\"Subject\", secondary=student_subjects, backref=\"students\")\n",
      "    \n",
      "    def __init__(self,name):\n",
      "        self.name = name\n",
      "        \n",
      "    def __repr__(self):\n",
      "        return \"<Student %r>\" % self.name\n"
     ],
     "language": "python",
     "metadata": {},
     "outputs": [],
     "prompt_number": 13
    },
    {
     "cell_type": "code",
     "collapsed": false,
     "input": [
      "class Teacher(Base):\n",
      "    \n",
      "    __tablename__ = \"teachers\"\n",
      "    \n",
      "    id = Column(Integer, primary_key=True)\n",
      "    name = Column(String(50))\n",
      "    \n",
      "    subjects = relationship(\"Subject\", backref=\"teacher\")\n",
      "    \n",
      "    def __init__(self,name):\n",
      "        self.name = name\n",
      "        \n",
      "    def __repr__(self):\n",
      "        return \"<Teacher %r>\" % self.name\n"
     ],
     "language": "python",
     "metadata": {},
     "outputs": [],
     "prompt_number": 14
    },
    {
     "cell_type": "code",
     "collapsed": false,
     "input": [
      "class Subject(Base):\n",
      "    \n",
      "    __tablename__ = \"subjects\"\n",
      "    \n",
      "    id = Column(Integer, primary_key=True)\n",
      "    name = Column(String(50))\n",
      "    \n",
      "    teacher_id = Column(Integer, ForeignKey(\"teachers.id\"))\n",
      "    \n",
      "    def __init__(self,name):\n",
      "        self.name = name\n",
      "        \n",
      "    def __repr__(self):\n",
      "        return \"<Subject %r>\" % self.name\n"
     ],
     "language": "python",
     "metadata": {},
     "outputs": [],
     "prompt_number": 15
    },
    {
     "cell_type": "markdown",
     "metadata": {},
     "source": [
      "---"
     ]
    },
    {
     "cell_type": "markdown",
     "metadata": {},
     "source": [
      "# DB Initialize"
     ]
    },
    {
     "cell_type": "code",
     "collapsed": false,
     "input": [
      "Base.metadata.create_all(engine)"
     ],
     "language": "python",
     "metadata": {},
     "outputs": [],
     "prompt_number": 16
    },
    {
     "cell_type": "markdown",
     "metadata": {},
     "source": [
      "---"
     ]
    },
    {
     "cell_type": "markdown",
     "metadata": {},
     "source": [
      "#Data Initialize"
     ]
    },
    {
     "cell_type": "code",
     "collapsed": false,
     "input": [
      "Bob = Student(\"Bob\")\n",
      "Alice = Student(\"Alice\")\n",
      "Eve = Student(\"Eve\")"
     ],
     "language": "python",
     "metadata": {},
     "outputs": [],
     "prompt_number": 17
    },
    {
     "cell_type": "code",
     "collapsed": false,
     "input": [
      "Math = Subject(\"Math\")\n",
      "Science = Subject(\"Science\")\n",
      "History = Subject(\"History\")"
     ],
     "language": "python",
     "metadata": {},
     "outputs": [],
     "prompt_number": 18
    },
    {
     "cell_type": "code",
     "collapsed": false,
     "input": [
      "Tanuja = Teacher(\"Tanuja\")\n",
      "Padmaja = Teacher(\"Padmaja\")\n",
      "Veena = Teacher(\"Veena\")"
     ],
     "language": "python",
     "metadata": {},
     "outputs": [],
     "prompt_number": 19
    },
    {
     "cell_type": "code",
     "collapsed": false,
     "input": [
      "Math.teacher = Padmaja"
     ],
     "language": "python",
     "metadata": {},
     "outputs": [],
     "prompt_number": 20
    },
    {
     "cell_type": "code",
     "collapsed": false,
     "input": [
      "Science.teacher = Tanuja"
     ],
     "language": "python",
     "metadata": {},
     "outputs": [],
     "prompt_number": 21
    },
    {
     "cell_type": "code",
     "collapsed": false,
     "input": [
      "History.teacher = Veena"
     ],
     "language": "python",
     "metadata": {},
     "outputs": [],
     "prompt_number": 22
    },
    {
     "cell_type": "code",
     "collapsed": false,
     "input": [
      "Bob.subjects.append(Math)\n",
      "Bob.subjects.append(History)"
     ],
     "language": "python",
     "metadata": {},
     "outputs": [],
     "prompt_number": 23
    },
    {
     "cell_type": "code",
     "collapsed": false,
     "input": [
      "Alice.subjects.append(History)"
     ],
     "language": "python",
     "metadata": {},
     "outputs": [],
     "prompt_number": 24
    },
    {
     "cell_type": "code",
     "collapsed": false,
     "input": [
      "Eve.subjects.append(Math)\n",
      "Eve.subjects.append(Science)\n",
      "Eve.subjects.append(History)"
     ],
     "language": "python",
     "metadata": {},
     "outputs": [],
     "prompt_number": 25
    },
    {
     "cell_type": "code",
     "collapsed": false,
     "input": [
      "session.add_all([\n",
      "    Bob,\n",
      "    Alice,\n",
      "    Eve,\n",
      "    Math,\n",
      "    Science,\n",
      "    History,\n",
      "    Tanuja,\n",
      "    Padmaja,\n",
      "    Veena\n",
      "])"
     ],
     "language": "python",
     "metadata": {},
     "outputs": [],
     "prompt_number": 26
    },
    {
     "cell_type": "code",
     "collapsed": false,
     "input": [
      "session.commit()"
     ],
     "language": "python",
     "metadata": {},
     "outputs": [],
     "prompt_number": 27
    },
    {
     "cell_type": "markdown",
     "metadata": {},
     "source": [
      "---"
     ]
    },
    {
     "cell_type": "markdown",
     "metadata": {},
     "source": [
      "# Queries"
     ]
    },
    {
     "cell_type": "code",
     "collapsed": false,
     "input": [
      "# Do you want the echo?\n",
      "#engine.echo = True"
     ],
     "language": "python",
     "metadata": {},
     "outputs": [],
     "prompt_number": 28
    },
    {
     "cell_type": "code",
     "collapsed": false,
     "input": [
      "# Get the list of students\n",
      "session.query(Student).all()"
     ],
     "language": "python",
     "metadata": {},
     "outputs": [
      {
       "metadata": {},
       "output_type": "pyout",
       "prompt_number": 29,
       "text": [
        "[<Student u'Bob'>, <Student u'Eve'>, <Student u'Alice'>]"
       ]
      }
     ],
     "prompt_number": 29
    },
    {
     "cell_type": "code",
     "collapsed": false,
     "input": [
      "# Get the list of students whos name begins with A\n",
      "session.query(Student).filter(Student.name.like(\"a%\")).all()"
     ],
     "language": "python",
     "metadata": {},
     "outputs": [
      {
       "metadata": {},
       "output_type": "pyout",
       "prompt_number": 30,
       "text": [
        "[<Student u'Alice'>]"
       ]
      }
     ],
     "prompt_number": 30
    },
    {
     "cell_type": "code",
     "collapsed": false,
     "input": [
      "# Get the list of subjects of Alice\n",
      "alice = session.query(Student).filter_by(name=\"Alice\").first()\n",
      "alice.subjects"
     ],
     "language": "python",
     "metadata": {},
     "outputs": [
      {
       "metadata": {},
       "output_type": "pyout",
       "prompt_number": 31,
       "text": [
        "[<Subject u'History'>]"
       ]
      }
     ],
     "prompt_number": 31
    },
    {
     "cell_type": "code",
     "collapsed": false,
     "input": [
      "# Who all have taken up the History subject?\n",
      "history = session.query(Subject).filter_by(name=\"History\").first()\n",
      "history.students"
     ],
     "language": "python",
     "metadata": {},
     "outputs": [
      {
       "metadata": {},
       "output_type": "pyout",
       "prompt_number": 32,
       "text": [
        "[<Student u'Eve'>, <Student u'Bob'>, <Student u'Alice'>]"
       ]
      }
     ],
     "prompt_number": 32
    },
    {
     "cell_type": "code",
     "collapsed": false,
     "input": [
      "# Lets do the above with 1 query instead of 2\n",
      "session.query(Student).join(Student.subjects).filter_by(name=\"History\").all()"
     ],
     "language": "python",
     "metadata": {},
     "outputs": [
      {
       "metadata": {},
       "output_type": "pyout",
       "prompt_number": 33,
       "text": [
        "[<Student u'Eve'>, <Student u'Bob'>, <Student u'Alice'>]"
       ]
      }
     ],
     "prompt_number": 33
    },
    {
     "cell_type": "code",
     "collapsed": false,
     "input": [
      "# How many subjects is each student taking?\n",
      "session.query(Student, func.count(Subject.name)).join(Student.subjects).group_by(Student).all()"
     ],
     "language": "python",
     "metadata": {},
     "outputs": [
      {
       "metadata": {},
       "output_type": "pyout",
       "prompt_number": 35,
       "text": [
        "[(<Student u'Bob'>, 2), (<Student u'Eve'>, 3), (<Student u'Alice'>, 1)]"
       ]
      }
     ],
     "prompt_number": 35
    },
    {
     "cell_type": "code",
     "collapsed": false,
     "input": [
      "# How many students are taking each subject?\n",
      "session.query(Subject.name, func.count(Subject.name)).join(student_subjects).group_by(Subject).all()"
     ],
     "language": "python",
     "metadata": {},
     "outputs": [
      {
       "metadata": {},
       "output_type": "pyout",
       "prompt_number": 36,
       "text": [
        "[(u'Math', 2), (u'Science', 1), (u'History', 3)]"
       ]
      }
     ],
     "prompt_number": 36
    }
   ],
   "metadata": {}
  }
 ]
}
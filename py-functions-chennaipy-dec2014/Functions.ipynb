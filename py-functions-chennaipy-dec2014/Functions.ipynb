{
 "metadata": {
  "name": "",
  "signature": "sha256:d1ae1ae0ae6fa69c2accc9bcb9b3f1e4ee580d7f2302a51efe5b50052d1700b6"
 },
 "nbformat": 3,
 "nbformat_minor": 0,
 "worksheets": [
  {
   "cells": [
    {
     "cell_type": "markdown",
     "metadata": {},
     "source": [
      "# Python and its Functions\n",
      "> Shrayas (@shrayasr)"
     ]
    },
    {
     "cell_type": "markdown",
     "metadata": {},
     "source": [
      "---"
     ]
    },
    {
     "cell_type": "markdown",
     "metadata": {},
     "source": [
      "> **Note:** Won't spend too much time on the body of the functions unless required"
     ]
    },
    {
     "cell_type": "markdown",
     "metadata": {},
     "source": [
      "---"
     ]
    },
    {
     "cell_type": "markdown",
     "metadata": {},
     "source": [
      "# Defining Functions"
     ]
    },
    {
     "cell_type": "markdown",
     "metadata": {},
     "source": [
      "## `def`\n",
      "> `def` everythang!"
     ]
    },
    {
     "cell_type": "code",
     "collapsed": false,
     "input": [
      "def foo():\n",
      "    return \"foo\"\n",
      "\n",
      "def bar():\n",
      "    return \"bar\"\n",
      "\n",
      "def foobar():\n",
      "    return foo() + bar()\n",
      "\n",
      "print foobar()"
     ],
     "language": "python",
     "metadata": {},
     "outputs": [
      {
       "output_type": "stream",
       "stream": "stdout",
       "text": [
        "foobar\n"
       ]
      }
     ],
     "prompt_number": 36
    },
    {
     "cell_type": "markdown",
     "metadata": {},
     "source": [
      "---"
     ]
    },
    {
     "cell_type": "markdown",
     "metadata": {},
     "source": [
      "# Arguments to functions"
     ]
    },
    {
     "cell_type": "code",
     "collapsed": false,
     "input": [
      "def say_hello(name, language):\n",
      "\n",
      "    language_responses = {\n",
      "        \"ENGLISH\": \"Hello, \",\n",
      "        \"JAPANESE\": \"Konichiwa, \",\n",
      "    }\n",
      "\n",
      "    # Clean the input\n",
      "    language = language.strip().upper()\n",
      "    hello_str = language_responses.get(language)\n",
      "\n",
      "    if hello_str:\n",
      "        return hello_str + name\n",
      "    else:\n",
      "        return \"Language not supported\""
     ],
     "language": "python",
     "metadata": {},
     "outputs": [],
     "prompt_number": 37
    },
    {
     "cell_type": "markdown",
     "metadata": {},
     "source": [
      "## Positional arguments\n",
      "> Arguments passed one after another"
     ]
    },
    {
     "cell_type": "code",
     "collapsed": false,
     "input": [
      "say_hello(\"Chennaipy\", \"English\")"
     ],
     "language": "python",
     "metadata": {},
     "outputs": [
      {
       "metadata": {},
       "output_type": "pyout",
       "prompt_number": 38,
       "text": [
        "'Hello, Chennaipy'"
       ]
      }
     ],
     "prompt_number": 38
    },
    {
     "cell_type": "code",
     "collapsed": false,
     "input": [
      "say_hello(\"English\", \"Chennaipy\")"
     ],
     "language": "python",
     "metadata": {},
     "outputs": [
      {
       "metadata": {},
       "output_type": "pyout",
       "prompt_number": 39,
       "text": [
        "'Language not supported'"
       ]
      }
     ],
     "prompt_number": 39
    },
    {
     "cell_type": "markdown",
     "metadata": {},
     "source": [
      "_Which of course means, the order in which they are passed, matters_"
     ]
    },
    {
     "cell_type": "markdown",
     "metadata": {},
     "source": [
      "---"
     ]
    },
    {
     "cell_type": "markdown",
     "metadata": {},
     "source": [
      "## Keyword Arguments \n",
      "> Arguments passed into the function with a keyword"
     ]
    },
    {
     "cell_type": "code",
     "collapsed": false,
     "input": [
      "say_hello(name=\"Chennaipy\", language=\"Japanese\")"
     ],
     "language": "python",
     "metadata": {},
     "outputs": [
      {
       "metadata": {},
       "output_type": "pyout",
       "prompt_number": 40,
       "text": [
        "'Konichiwa, Chennaipy'"
       ]
      }
     ],
     "prompt_number": 40
    },
    {
     "cell_type": "code",
     "collapsed": false,
     "input": [
      "say_hello(language=\"Japanese\", name=\"Chennaipy\")"
     ],
     "language": "python",
     "metadata": {},
     "outputs": [
      {
       "metadata": {},
       "output_type": "pyout",
       "prompt_number": 41,
       "text": [
        "'Konichiwa, Chennaipy'"
       ]
      }
     ],
     "prompt_number": 41
    },
    {
     "cell_type": "markdown",
     "metadata": {},
     "source": [
      "_Which of course means, the order in which they are passed, **doesn't** matter_"
     ]
    },
    {
     "cell_type": "markdown",
     "metadata": {},
     "source": [
      "## Variadic functions"
     ]
    },
    {
     "cell_type": "markdown",
     "metadata": {},
     "source": [
      "### *\n",
      "> Positional"
     ]
    },
    {
     "cell_type": "code",
     "collapsed": false,
     "input": [
      "def square(*nums):\n",
      "    for num in nums:\n",
      "        print num*num\n",
      "        \n",
      "    print\n",
      "    print type(nums)\n",
      "    print nums\n",
      "        \n",
      "square(2,3,4,6,7,8,5,4,3,2)"
     ],
     "language": "python",
     "metadata": {},
     "outputs": [
      {
       "output_type": "stream",
       "stream": "stdout",
       "text": [
        "4\n",
        "9\n",
        "16\n",
        "36\n",
        "49\n",
        "64\n",
        "25\n",
        "16\n",
        "9\n",
        "4\n",
        "\n",
        "<type 'tuple'>\n",
        "(2, 3, 4, 6, 7, 8, 5, 4, 3, 2)\n"
       ]
      }
     ],
     "prompt_number": 42
    },
    {
     "cell_type": "markdown",
     "metadata": {},
     "source": [
      "### ** \n",
      "> Keyword"
     ]
    },
    {
     "cell_type": "code",
     "collapsed": false,
     "input": [
      "def make_coffee(**config):\n",
      "    for k,v in config.items():\n",
      "        print k, \"=>\", v\n",
      "        \n",
      "    print\n",
      "    print type(config)\n",
      "    print config\n",
      "    \n",
      "make_coffee(decaf=False, milk=True, extra_sugar=True, no_sugar=False)"
     ],
     "language": "python",
     "metadata": {},
     "outputs": [
      {
       "output_type": "stream",
       "stream": "stdout",
       "text": [
        "decaf => False\n",
        "extra_sugar => True\n",
        "milk => True\n",
        "no_sugar => False\n",
        "\n",
        "<type 'dict'>\n",
        "{'decaf': False, 'extra_sugar': True, 'milk': True, 'no_sugar': False}\n"
       ]
      }
     ],
     "prompt_number": 43
    },
    {
     "cell_type": "markdown",
     "metadata": {},
     "source": [
      "### Mix and Match\n",
      "> Because, Python yo!"
     ]
    },
    {
     "cell_type": "code",
     "collapsed": false,
     "input": [
      "def illustrate_pos_kw_args(first_arg, *args, **kwargs):\n",
      "    print first_arg\n",
      "    print args\n",
      "    print kwargs\n",
      "    \n",
      "illustrate_pos_kw_args(1,2,3,a=1, b=2)"
     ],
     "language": "python",
     "metadata": {},
     "outputs": [
      {
       "output_type": "stream",
       "stream": "stdout",
       "text": [
        "1\n",
        "(2, 3)\n",
        "{'a': 1, 'b': 2}\n"
       ]
      }
     ],
     "prompt_number": 44
    },
    {
     "cell_type": "markdown",
     "metadata": {},
     "source": [
      "> **Note:** Calling them `args` and `kwargs` is just for standards purposes. You can call them anything"
     ]
    },
    {
     "cell_type": "markdown",
     "metadata": {},
     "source": [
      "# Default arguments to functions"
     ]
    },
    {
     "cell_type": "code",
     "collapsed": false,
     "input": [
      "def hello_world(name=None):\n",
      "    if name:\n",
      "        return \"Hello, \" + name\n",
      "    else:\n",
      "        return \"Hello, world\""
     ],
     "language": "python",
     "metadata": {},
     "outputs": [],
     "prompt_number": 45
    },
    {
     "cell_type": "code",
     "collapsed": false,
     "input": [
      "print hello_world()\n",
      "print hello_world(\"Chennaipy\")"
     ],
     "language": "python",
     "metadata": {},
     "outputs": [
      {
       "output_type": "stream",
       "stream": "stdout",
       "text": [
        "Hello, world\n",
        "Hello, Chennaipy\n"
       ]
      }
     ],
     "prompt_number": 46
    },
    {
     "cell_type": "markdown",
     "metadata": {},
     "source": [
      "---"
     ]
    },
    {
     "cell_type": "markdown",
     "metadata": {},
     "source": [
      "# Defining Functions inside Functions"
     ]
    },
    {
     "cell_type": "code",
     "collapsed": false,
     "input": [
      "def make_dosa(masala=False, red_chutney=False, extra_roast=False):\n",
      "    \n",
      "    def _evaluate_dosa_configuration(masala, red_chutney, extra_roast):\n",
      "        print masala\n",
      "        print red_chutney\n",
      "        print extra_roast\n",
      "        return True\n",
      "    \n",
      "    def _make_dosa(masala, red_chutney, extra_roast):\n",
      "        return \" ______\\n(______) Making\"\n",
      "    \n",
      "    if _evaluate_dosa_configuration(masala, red_chutney, extra_roast):\n",
      "        return _make_dosa(masala, red_chutney, extra_roast)\n",
      "        \n",
      "print make_dosa(masala=True)"
     ],
     "language": "python",
     "metadata": {},
     "outputs": [
      {
       "output_type": "stream",
       "stream": "stdout",
       "text": [
        "True\n",
        "False\n",
        "False\n",
        " ______\n",
        "(______) Making\n"
       ]
      }
     ],
     "prompt_number": 47
    },
    {
     "cell_type": "markdown",
     "metadata": {},
     "source": [
      "## Lexical Scoping in functions"
     ]
    },
    {
     "cell_type": "code",
     "collapsed": false,
     "input": [
      "def fn1(arg1, arg2, arg3):\n",
      "    \n",
      "    def fn2():\n",
      "        print arg1, arg2, arg3\n",
      "        \n",
      "    fn2()\n",
      "\n",
      "fn1(1,2,3)"
     ],
     "language": "python",
     "metadata": {},
     "outputs": [
      {
       "output_type": "stream",
       "stream": "stdout",
       "text": [
        "1 2 3\n"
       ]
      }
     ],
     "prompt_number": 48
    },
    {
     "cell_type": "code",
     "collapsed": false,
     "input": [
      "def make_dosa(masala=False, red_chutney=False, extra_roast=False):\n",
      "    \n",
      "    def _evaluate_dosa_configuration():\n",
      "        print masala\n",
      "        print red_chutney\n",
      "        print extra_roast\n",
      "        return True\n",
      "    \n",
      "    def _make_dosa():\n",
      "        return \" ______\\n(______) Making\"\n",
      "    \n",
      "    if _evaluate_dosa_configuration():\n",
      "        return _make_dosa()\n",
      "        \n",
      "print make_dosa(masala=True)"
     ],
     "language": "python",
     "metadata": {},
     "outputs": [
      {
       "output_type": "stream",
       "stream": "stdout",
       "text": [
        "True\n",
        "False\n",
        "False\n",
        " ______\n",
        "(______) Making\n"
       ]
      }
     ],
     "prompt_number": 49
    },
    {
     "cell_type": "markdown",
     "metadata": {},
     "source": [
      "---"
     ]
    },
    {
     "cell_type": "markdown",
     "metadata": {},
     "source": [
      "# Passing Functions as Arguments"
     ]
    },
    {
     "cell_type": "markdown",
     "metadata": {},
     "source": [
      "## Before that!"
     ]
    },
    {
     "cell_type": "code",
     "collapsed": false,
     "input": [
      "def run():\n",
      "    return \"runninggg\""
     ],
     "language": "python",
     "metadata": {},
     "outputs": [],
     "prompt_number": 50
    },
    {
     "cell_type": "code",
     "collapsed": false,
     "input": [
      "run()"
     ],
     "language": "python",
     "metadata": {},
     "outputs": [
      {
       "metadata": {},
       "output_type": "pyout",
       "prompt_number": 51,
       "text": [
        "'runninggg'"
       ]
      }
     ],
     "prompt_number": 51
    },
    {
     "cell_type": "code",
     "collapsed": false,
     "input": [
      "run.__class__"
     ],
     "language": "python",
     "metadata": {},
     "outputs": [
      {
       "metadata": {},
       "output_type": "pyout",
       "prompt_number": 52,
       "text": [
        "function"
       ]
      }
     ],
     "prompt_number": 52
    },
    {
     "cell_type": "code",
     "collapsed": false,
     "input": [
      "run_forrest_run = run"
     ],
     "language": "python",
     "metadata": {},
     "outputs": [],
     "prompt_number": 53
    },
    {
     "cell_type": "code",
     "collapsed": false,
     "input": [
      "run_forrest_run"
     ],
     "language": "python",
     "metadata": {},
     "outputs": [
      {
       "metadata": {},
       "output_type": "pyout",
       "prompt_number": 54,
       "text": [
        "<function __main__.run>"
       ]
      }
     ],
     "prompt_number": 54
    },
    {
     "cell_type": "code",
     "collapsed": false,
     "input": [
      "run()"
     ],
     "language": "python",
     "metadata": {},
     "outputs": [
      {
       "metadata": {},
       "output_type": "pyout",
       "prompt_number": 55,
       "text": [
        "'runninggg'"
       ]
      }
     ],
     "prompt_number": 55
    },
    {
     "cell_type": "code",
     "collapsed": false,
     "input": [
      "run_forrest_run()"
     ],
     "language": "python",
     "metadata": {},
     "outputs": [
      {
       "metadata": {},
       "output_type": "pyout",
       "prompt_number": 56,
       "text": [
        "'runninggg'"
       ]
      }
     ],
     "prompt_number": 56
    },
    {
     "cell_type": "markdown",
     "metadata": {},
     "source": [
      "---"
     ]
    },
    {
     "cell_type": "markdown",
     "metadata": {},
     "source": [
      "## Coming back..."
     ]
    },
    {
     "cell_type": "code",
     "collapsed": false,
     "input": [
      "def make_dosa(masala=False, red_chutney=False, extra_roast=False, method_of_preparation=None):\n",
      "    \n",
      "    if not method_of_preparation:\n",
      "        raise Exception(\"Don't know how to make dosa\")\n",
      "    \n",
      "    def _evaluate_dosa_configuration():\n",
      "        return True\n",
      "    \n",
      "    def _make_dosa():\n",
      "        return method_of_preparation()\n",
      "    \n",
      "    if _evaluate_dosa_configuration():\n",
      "        return _make_dosa()\n",
      "        \n",
      "def make_chennai_dosa():\n",
      "    return \"Oru dosa ready saar!\"\n",
      "\n",
      "def make_bangalore_dosa():\n",
      "    return \"Ondhu dose ready saar!\"\n",
      "        \n",
      "print make_dosa(masala=True, method_of_preparation=make_chennai_dosa)\n",
      "print make_dosa(masala=True, method_of_preparation=make_bangalore_dosa)"
     ],
     "language": "python",
     "metadata": {},
     "outputs": [
      {
       "output_type": "stream",
       "stream": "stdout",
       "text": [
        "Oru dosa ready saar!\n",
        "Ondhu dose ready saar!\n"
       ]
      }
     ],
     "prompt_number": 57
    },
    {
     "cell_type": "markdown",
     "metadata": {},
     "source": [
      "---"
     ]
    },
    {
     "cell_type": "markdown",
     "metadata": {},
     "source": [
      "# Returning Functions from Functions"
     ]
    },
    {
     "cell_type": "code",
     "collapsed": false,
     "input": [
      "def dosa_maker(style):\n",
      "    \n",
      "    def chennai(*args, **kwargs):\n",
      "        print args, kwargs\n",
      "        return \"Suda suda dosa saar\"\n",
      "    \n",
      "    def bangalore(*args, **kwargs):\n",
      "        print args, kwargs\n",
      "        return \"Bisi Bisi dose saar\"\n",
      "    \n",
      "    styles = {\n",
      "        \"CHENNAI\": chennai,\n",
      "        \"BANGALORE\": bangalore\n",
      "    }\n",
      "    \n",
      "    style = style.strip().upper()\n",
      "    return styles[style]\n",
      "\n",
      "chennai_dosa_maker = dosa_maker(\"chennai\")\n",
      "print chennai_dosa_maker(masala=True)"
     ],
     "language": "python",
     "metadata": {},
     "outputs": [
      {
       "output_type": "stream",
       "stream": "stdout",
       "text": [
        "() {'masala': True}\n",
        "Suda suda dosa saar\n"
       ]
      }
     ],
     "prompt_number": 58
    },
    {
     "cell_type": "markdown",
     "metadata": {},
     "source": [
      "---"
     ]
    },
    {
     "cell_type": "markdown",
     "metadata": {},
     "source": [
      "## Conclusion\n",
      "\n"
     ]
    },
    {
     "cell_type": "markdown",
     "metadata": {},
     "source": [
      "* Functions in Python are awesome\n",
      "* You can: \n",
      "    * Define functions inside functions\n",
      "    * Pass functions as arguments to other functions\n",
      "    * Return functions from functions\n",
      "* Functions in Python are First Class"
     ]
    },
    {
     "cell_type": "markdown",
     "metadata": {},
     "source": [
      "![First class!](./Logo.png)"
     ]
    }
   ],
   "metadata": {}
  }
 ]
}
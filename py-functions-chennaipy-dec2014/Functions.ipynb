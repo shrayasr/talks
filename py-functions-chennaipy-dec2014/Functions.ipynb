{
 "metadata": {
  "name": "",
  "signature": "sha256:15f9b2abfecf5728f0dd664d9a16ed8956bed7dd003156f267bf70b5ba51e6ce"
 },
 "nbformat": 3,
 "nbformat_minor": 0,
 "worksheets": [
  {
   "cells": [
    {
     "cell_type": "markdown",
     "metadata": {},
     "source": [
      "# Defining Functions"
     ]
    },
    {
     "cell_type": "markdown",
     "metadata": {},
     "source": [
      "## `def`\n",
      "> `def` everythang!"
     ]
    },
    {
     "cell_type": "code",
     "collapsed": false,
     "input": [
      "def foo():\n",
      "    return \"foo\"\n",
      "\n",
      "def bar():\n",
      "    return \"bar\"\n",
      "\n",
      "def foobar():\n",
      "    return foo() + bar()\n",
      "\n",
      "print foobar()"
     ],
     "language": "python",
     "metadata": {},
     "outputs": [
      {
       "output_type": "stream",
       "stream": "stdout",
       "text": [
        "foobar\n"
       ]
      }
     ],
     "prompt_number": 11
    },
    {
     "cell_type": "markdown",
     "metadata": {},
     "source": [
      "---"
     ]
    },
    {
     "cell_type": "markdown",
     "metadata": {},
     "source": [
      "# Arguments to functions"
     ]
    },
    {
     "cell_type": "code",
     "collapsed": false,
     "input": [
      "def say_hello(name, language):\n",
      "\n",
      "    language_responses = {\n",
      "        \"ENGLISH\": \"Hello, \",\n",
      "        \"JAPANESE\": \"Konichiwa, \",\n",
      "    }\n",
      "\n",
      "    # Clean the input\n",
      "    language = language.strip().upper()\n",
      "    hello_str = language_responses.get(language)\n",
      "\n",
      "    if hello_str:\n",
      "        return hello_str + name\n",
      "    else:\n",
      "        return \"Language not supported\""
     ],
     "language": "python",
     "metadata": {},
     "outputs": [],
     "prompt_number": 12
    },
    {
     "cell_type": "markdown",
     "metadata": {},
     "source": [
      "## Positional arguments\n",
      "> Arguments passed one after another"
     ]
    },
    {
     "cell_type": "code",
     "collapsed": false,
     "input": [
      "say_hello(\"Chennaipy\", \"English\")"
     ],
     "language": "python",
     "metadata": {},
     "outputs": [
      {
       "metadata": {},
       "output_type": "pyout",
       "prompt_number": 13,
       "text": [
        "'Hello, Chennaipy'"
       ]
      }
     ],
     "prompt_number": 13
    },
    {
     "cell_type": "markdown",
     "metadata": {},
     "source": [
      "_Which of course means, the order in which they are passed, matters_"
     ]
    },
    {
     "cell_type": "markdown",
     "metadata": {},
     "source": [
      "---"
     ]
    },
    {
     "cell_type": "markdown",
     "metadata": {},
     "source": [
      "## Keyword Arguments \n",
      "> Arguments passed into the function with a keyword"
     ]
    },
    {
     "cell_type": "code",
     "collapsed": false,
     "input": [
      "say_hello(name=\"Chennaipy\", language=\"Japanese\")"
     ],
     "language": "python",
     "metadata": {},
     "outputs": [
      {
       "metadata": {},
       "output_type": "pyout",
       "prompt_number": 14,
       "text": [
        "'Konichiwa, Chennaipy'"
       ]
      }
     ],
     "prompt_number": 14
    },
    {
     "cell_type": "code",
     "collapsed": false,
     "input": [
      "say_hello(language=\"Japanese\", name=\"Chennaipy\")"
     ],
     "language": "python",
     "metadata": {},
     "outputs": [
      {
       "metadata": {},
       "output_type": "pyout",
       "prompt_number": 15,
       "text": [
        "'Konichiwa, Chennaipy'"
       ]
      }
     ],
     "prompt_number": 15
    },
    {
     "cell_type": "markdown",
     "metadata": {},
     "source": [
      "_Which of course means, the order in which they are passed, **doesn't** matter_"
     ]
    },
    {
     "cell_type": "markdown",
     "metadata": {},
     "source": [
      "## Variadic functions in Python \n",
      "> `*` and `**`"
     ]
    },
    {
     "cell_type": "code",
     "collapsed": false,
     "input": [
      "def square(*nums):\n",
      "    for num in nums:\n",
      "        print num*num\n",
      "        \n",
      "    print type(nums)\n",
      "        \n",
      "square(2,3,4)"
     ],
     "language": "python",
     "metadata": {},
     "outputs": [
      {
       "output_type": "stream",
       "stream": "stdout",
       "text": [
        "4\n",
        "9\n",
        "16\n",
        "<type 'tuple'>\n"
       ]
      }
     ],
     "prompt_number": 16
    },
    {
     "cell_type": "code",
     "collapsed": false,
     "input": [
      "def make_coffee(**config):\n",
      "    for k,v in config.items():\n",
      "        print k, \"=>\", v\n",
      "        \n",
      "    print type(config)\n",
      "    \n",
      "make_coffee(decaf=False, milk=True, extra_sugar=True, no_sugar=False)"
     ],
     "language": "python",
     "metadata": {},
     "outputs": [
      {
       "output_type": "stream",
       "stream": "stdout",
       "text": [
        "decaf => False\n",
        "extra_sugar => True\n",
        "milk => True\n",
        "no_sugar => False\n",
        "<type 'dict'>\n"
       ]
      }
     ],
     "prompt_number": 17
    },
    {
     "cell_type": "code",
     "collapsed": false,
     "input": [
      "def illustrate_pos_kw_args(first_arg, *args, **kwargs):\n",
      "    print first_arg\n",
      "    print args\n",
      "    print kwargs\n",
      "    \n",
      "illustrate_pos_kw_args(1,2,3,a=1, b=2)"
     ],
     "language": "python",
     "metadata": {},
     "outputs": [
      {
       "output_type": "stream",
       "stream": "stdout",
       "text": [
        "1\n",
        "(2, 3)\n",
        "{'a': 1, 'b': 2}\n"
       ]
      }
     ],
     "prompt_number": 21
    },
    {
     "cell_type": "markdown",
     "metadata": {},
     "source": [
      "> **Note:** Calling them `args` and `kwargs` is just for standards purposes. You can call them anything"
     ]
    },
    {
     "cell_type": "markdown",
     "metadata": {},
     "source": [
      "---"
     ]
    },
    {
     "cell_type": "markdown",
     "metadata": {},
     "source": [
      "# Defining Functions inside Functions"
     ]
    },
    {
     "cell_type": "code",
     "collapsed": false,
     "input": [
      "def make_dosa(masala=False, red_chutney=False, extra_roast=False):\n",
      "    \n",
      "    def _evaluate_dosa_configuration(masala, red_chutney, extra_roast):\n",
      "        print masala\n",
      "        print red_chutney\n",
      "        print extra_roast\n",
      "        return True\n",
      "    \n",
      "    def _make_dosa(masala, red_chutney, extra_roast):\n",
      "        return \"Making\"\n",
      "    \n",
      "    if _evaluate_dosa_configuration(masala, red_chutney, extra_roast):\n",
      "        return _make_dosa(masala, red_chutney, extra_roast)\n",
      "        \n",
      "print make_dosa(masala=True)"
     ],
     "language": "python",
     "metadata": {},
     "outputs": []
    },
    {
     "cell_type": "markdown",
     "metadata": {},
     "source": [
      "## Lexical Scoping in functions"
     ]
    },
    {
     "cell_type": "code",
     "collapsed": false,
     "input": [
      "def fn1(arg1, arg2, arg3):\n",
      "    \n",
      "    def fn2():\n",
      "        print arg1, arg2, arg3\n",
      "        \n",
      "    fn2()\n",
      "\n",
      "fn1(1,2,3)"
     ],
     "language": "python",
     "metadata": {},
     "outputs": []
    },
    {
     "cell_type": "code",
     "collapsed": false,
     "input": [
      "def make_dosa(masala=False, red_chutney=False, extra_roast=False):\n",
      "    \n",
      "    def _evaluate_dosa_configuration():\n",
      "        print masala\n",
      "        print red_chutney\n",
      "        print extra_roast\n",
      "        return True\n",
      "    \n",
      "    def _make_dosa():\n",
      "        return \"Making\"\n",
      "    \n",
      "    if _evaluate_dosa_configuration():\n",
      "        return _make_dosa()\n",
      "        \n",
      "print make_dosa(masala=True)"
     ],
     "language": "python",
     "metadata": {},
     "outputs": []
    },
    {
     "cell_type": "markdown",
     "metadata": {},
     "source": [
      "---"
     ]
    },
    {
     "cell_type": "markdown",
     "metadata": {},
     "source": [
      "# Passing Functions as Arguments"
     ]
    },
    {
     "cell_type": "code",
     "collapsed": false,
     "input": [
      "def make_dosa(masala=False, red_chutney=False, extra_roast=False, method_of_preparation=None):\n",
      "    \n",
      "    if not method_of_preparation:\n",
      "        raise Exception(\"Don't know how to make dosa\")\n",
      "    \n",
      "    def _evaluate_dosa_configuration():\n",
      "        return True\n",
      "    \n",
      "    def _make_dosa():\n",
      "        return method_of_preparation()\n",
      "    \n",
      "    if _evaluate_dosa_configuration():\n",
      "        return _make_dosa()\n",
      "        \n",
      "def make_chennai_dosa():\n",
      "    return \"pour dosa mix sans rice flour, heat to sim, pour oil, turn over, turn again, fold, serve\"\n",
      "\n",
      "def make_bangalore_dosa():\n",
      "    return \"pour dosa mix, heat to sim, pour oil, turn over, turn again, fold, serve\"\n",
      "        \n",
      "print make_dosa(masala=True, method_of_preparation=make_chennai_dosa)\n",
      "print make_dosa(masala=True, method_of_preparation=make_bangalore_dosa)"
     ],
     "language": "python",
     "metadata": {},
     "outputs": []
    },
    {
     "cell_type": "markdown",
     "metadata": {},
     "source": [
      "---"
     ]
    },
    {
     "cell_type": "markdown",
     "metadata": {},
     "source": [
      "# Returning Functions from Functions"
     ]
    },
    {
     "cell_type": "code",
     "collapsed": false,
     "input": [
      "def dosa_maker(style):\n",
      "    \n",
      "    def chennai(*args, **kwargs):\n",
      "        print args, kwargs\n",
      "        return \"Suda suda dosa saar\"\n",
      "    \n",
      "    def bangalore(*args, **kwargs):\n",
      "        print args, kwargs\n",
      "        return \"Bisi Bisi dose saar\"\n",
      "    \n",
      "    styles = {\n",
      "        \"CHENNAI\": chennai,\n",
      "        \"BANGALORE\": bangalore\n",
      "    }\n",
      "    \n",
      "    style = style.strip().upper()\n",
      "    return styles[style]\n",
      "\n",
      "chennai_dosa_maker = dosa_maker(\"chennai\")\n",
      "print chennai_dosa_maker(masala=True)"
     ],
     "language": "python",
     "metadata": {},
     "outputs": []
    },
    {
     "cell_type": "markdown",
     "metadata": {},
     "source": [
      "---"
     ]
    },
    {
     "cell_type": "markdown",
     "metadata": {},
     "source": [
      "![First class!](./Logo.png)"
     ]
    }
   ],
   "metadata": {}
  }
 ]
}
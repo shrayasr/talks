{
 "metadata": {
  "name": "",
  "signature": "sha256:11b6ed3b11f5be32dff336bd994e416bdf7fcf57e2f64729eacedc59733efd24"
 },
 "nbformat": 3,
 "nbformat_minor": 0,
 "worksheets": [
  {
   "cells": [
    {
     "cell_type": "markdown",
     "metadata": {},
     "source": [
      "#Recap"
     ]
    },
    {
     "cell_type": "markdown",
     "metadata": {},
     "source": [
      "## 1. Functions can be defined inside functions"
     ]
    },
    {
     "cell_type": "code",
     "collapsed": false,
     "input": [
      "def say_something(thought):\n",
      "    \n",
      "    def _thought_makes_sense(thought):\n",
      "        return True\n",
      "    \n",
      "    if _thought_makes_sense(thought):\n",
      "        return thought\n",
      "    \n",
      "print say_something(\"That person stinks!\")"
     ],
     "language": "python",
     "metadata": {},
     "outputs": [
      {
       "output_type": "stream",
       "stream": "stdout",
       "text": [
        "That person stinks!\n"
       ]
      }
     ],
     "prompt_number": 4
    },
    {
     "cell_type": "markdown",
     "metadata": {},
     "source": [
      "## 2. Functions are Lexically scoped"
     ]
    },
    {
     "cell_type": "code",
     "collapsed": false,
     "input": [
      "def say_something(thought):\n",
      "    \n",
      "    def _thought_makes_sense():\n",
      "        return True\n",
      "    \n",
      "    if _thought_makes_sense():\n",
      "        return thought\n",
      "    \n",
      "print say_something(\"That person stinks!\")"
     ],
     "language": "python",
     "metadata": {},
     "outputs": [
      {
       "output_type": "stream",
       "stream": "stdout",
       "text": [
        "That person stinks!\n"
       ]
      }
     ],
     "prompt_number": 5
    },
    {
     "cell_type": "markdown",
     "metadata": {},
     "source": [
      "## 3. Functions can be passed as arguments"
     ]
    },
    {
     "cell_type": "code",
     "collapsed": false,
     "input": [
      "def say_something(thought, tone=None):\n",
      "    return tone(thought)\n",
      "\n",
      "def yell(thought):\n",
      "    return thought.upper()\n",
      "\n",
      "def whisper(thought):\n",
      "    return \"Shhh... \" + thought.lower()\n",
      "\n",
      "print say_something(\"where are you babu?\", tone=yell)\n",
      "print say_something(\"Lets go get an ice cream!\", tone=whisper)"
     ],
     "language": "python",
     "metadata": {},
     "outputs": [
      {
       "output_type": "stream",
       "stream": "stdout",
       "text": [
        "WHERE ARE YOU KYLE?\n",
        "Shhh... lets go get an ice cream!\n"
       ]
      }
     ],
     "prompt_number": 9
    },
    {
     "cell_type": "markdown",
     "metadata": {},
     "source": [
      "## 4. Functions can be returned from functions"
     ]
    },
    {
     "cell_type": "code",
     "collapsed": false,
     "input": [
      "def mood_maker(mood):\n",
      "    \n",
      "    def happy(thought):\n",
      "        return \"^_^ \" + thought + \" ^_^\"\n",
      "    \n",
      "    def sad(thought):\n",
      "        return thought + \" ... :'( sniff\"\n",
      "    \n",
      "    moods = {\n",
      "        \"HAPPY\": happy,\n",
      "        \"SAD\": sad\n",
      "    }\n",
      "    \n",
      "    return moods[mood.upper()]\n",
      "\n",
      "say_happily = mood_maker(\"happy\")\n",
      "print say_happily(\"Hello!\")\n",
      "\n",
      "say_sadly = mood_maker(\"sad\")\n",
      "print say_sadly(\"I lost my favourite pen!\")"
     ],
     "language": "python",
     "metadata": {},
     "outputs": [
      {
       "output_type": "stream",
       "stream": "stdout",
       "text": [
        "^_^ Hello! ^_^\n",
        "I lost my favourite pen! ... :( sniff\n"
       ]
      }
     ],
     "prompt_number": 12
    },
    {
     "cell_type": "markdown",
     "metadata": {},
     "source": [
      "---"
     ]
    },
    {
     "cell_type": "markdown",
     "metadata": {},
     "source": [
      "# Lets add some masala to a function!"
     ]
    },
    {
     "cell_type": "code",
     "collapsed": false,
     "input": [
      "def masala_adder(func):\n",
      "    \n",
      "    def masalad_function():\n",
      "        return \"Masaaaaaaaaaa [%s] lllllaaaaaa\" % func()\n",
      "        \n",
      "    return masalad_function\n",
      "\n",
      "def say_hi():\n",
      "    return \"Hii\"\n",
      "   \n",
      "print say_hi()\n",
      "say_hi = masala_adder(say_hi)\n",
      "print say_hi()"
     ],
     "language": "python",
     "metadata": {},
     "outputs": [
      {
       "output_type": "stream",
       "stream": "stdout",
       "text": [
        "Hii\n",
        "Masaaaaaaaaaa [Hii] lllllaaaaaa\n"
       ]
      }
     ],
     "prompt_number": 16
    },
    {
     "cell_type": "markdown",
     "metadata": {},
     "source": [
      "# Masala, Decorators style!"
     ]
    },
    {
     "cell_type": "code",
     "collapsed": false,
     "input": [
      "@masala_adder\n",
      "def say_hello():\n",
      "    return \"Hello\"\n",
      "\n",
      "say_hello()"
     ],
     "language": "python",
     "metadata": {},
     "outputs": [
      {
       "metadata": {},
       "output_type": "pyout",
       "prompt_number": 18,
       "text": [
        "'Masaaaaaaaaaa [Hello] lllllaaaaaa'"
       ]
      }
     ],
     "prompt_number": 18
    }
   ],
   "metadata": {}
  }
 ]
}
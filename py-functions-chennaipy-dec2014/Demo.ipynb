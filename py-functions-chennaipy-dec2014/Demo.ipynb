{
 "metadata": {
  "name": "",
  "signature": "sha256:0b1cf6eb8de405c044c086d6c3f34112434178f76eb59196dac712caae894acd"
 },
 "nbformat": 3,
 "nbformat_minor": 0,
 "worksheets": [
  {
   "cells": [
    {
     "cell_type": "markdown",
     "metadata": {},
     "source": [
      "# Defining Functions"
     ]
    },
    {
     "cell_type": "markdown",
     "metadata": {},
     "source": [
      "## `def`\n",
      "> `def` everythang!"
     ]
    },
    {
     "cell_type": "code",
     "collapsed": false,
     "input": [
      "def foo():\n",
      "    return \"bar\"\n",
      "\n",
      "def bar():\n",
      "    return \"foo\"\n",
      "\n",
      "def foobar():\n",
      "    return foo() + bar()\n",
      "\n",
      "print foobar()"
     ],
     "language": "python",
     "metadata": {},
     "outputs": []
    },
    {
     "cell_type": "markdown",
     "metadata": {},
     "source": [
      "---"
     ]
    },
    {
     "cell_type": "markdown",
     "metadata": {},
     "source": [
      "# Arguments to functions"
     ]
    },
    {
     "cell_type": "markdown",
     "metadata": {},
     "source": [
      "## Positional arguments\n",
      "> Arguments passed one after another"
     ]
    },
    {
     "cell_type": "code",
     "collapsed": false,
     "input": [
      "def square(num):\n",
      "    return num*num\n",
      "\n",
      "print square(2)"
     ],
     "language": "python",
     "metadata": {},
     "outputs": []
    },
    {
     "cell_type": "markdown",
     "metadata": {},
     "source": [
      "_Which of course means, the order in which they are passed, matters_"
     ]
    },
    {
     "cell_type": "markdown",
     "metadata": {},
     "source": [
      "---"
     ]
    },
    {
     "cell_type": "markdown",
     "metadata": {},
     "source": [
      "## Keyword Arguments \n",
      "> Arguments passed into the function with a keyword"
     ]
    },
    {
     "cell_type": "code",
     "collapsed": false,
     "input": [
      "def say_hello(name=None):\n",
      "    if name:\n",
      "        return \"Hello, \" + name\n",
      "    else:\n",
      "        return \"Hello, World\"\n",
      "    \n",
      "print say_hello()\n",
      "print say_hello(name=\"Chennaipy\")"
     ],
     "language": "python",
     "metadata": {},
     "outputs": []
    },
    {
     "cell_type": "markdown",
     "metadata": {},
     "source": [
      "_Which of course means, the order in which they are passed, **doesn't** matter_"
     ]
    },
    {
     "cell_type": "code",
     "collapsed": false,
     "input": [
      "def say_hello(name=\"World\", language=\"English\"):\n",
      "    \n",
      "    language_responses = {\n",
      "        \"ENGLISH\": \"Hello, %s\",\n",
      "        \"JAPANESE\": \"Konichiwa, %s\",\n",
      "    }\n",
      "    \n",
      "    language = language.strip().upper()\n",
      "    hello_str = language_responses[language]\n",
      "    \n",
      "    if hello_str:\n",
      "        return hello_str % (name)\n",
      "    else:\n",
      "        return \"Language not supported\"\n",
      "    \n",
      "print say_hello(language=\"Japanese\", name=\"Chennaipy\")"
     ],
     "language": "python",
     "metadata": {},
     "outputs": [
      {
       "output_type": "stream",
       "stream": "stdout",
       "text": [
        "Konichiwa, Chennaipy\n"
       ]
      }
     ],
     "prompt_number": 21
    },
    {
     "cell_type": "markdown",
     "metadata": {},
     "source": [
      "## Variadic functions in Python \n",
      "> `*` and `**`"
     ]
    },
    {
     "cell_type": "code",
     "collapsed": false,
     "input": [
      "def square(*nums):\n",
      "    for num in nums:\n",
      "        print num*num\n",
      "        \n",
      "    print type(nums)\n",
      "        \n",
      "square(2,3,4)"
     ],
     "language": "python",
     "metadata": {},
     "outputs": [
      {
       "output_type": "stream",
       "stream": "stdout",
       "text": [
        "4\n",
        "9\n",
        "16\n",
        "<type 'tuple'>\n"
       ]
      }
     ],
     "prompt_number": 34
    },
    {
     "cell_type": "code",
     "collapsed": false,
     "input": [
      "def say_hello(**config):\n",
      "    for k,v in config.items():\n",
      "        print k, \"=>\", v\n",
      "        \n",
      "    print type(config)\n",
      "        \n",
      "say_hello(language=\"Japanese\", name=\"Chennaipy\")"
     ],
     "language": "python",
     "metadata": {},
     "outputs": [
      {
       "output_type": "stream",
       "stream": "stdout",
       "text": [
        "name => Chennaipy\n",
        "language => Japanese\n",
        "<type 'dict'>\n"
       ]
      }
     ],
     "prompt_number": 35
    },
    {
     "cell_type": "code",
     "collapsed": false,
     "input": [
      "def read_csv(f, field_separator=\",\", line_separator=\"\\n\"):\n",
      "    pass\n",
      "\n",
      "def csv_reader(*args, **kwargs):\n",
      "    \n",
      "    for arg in args:\n",
      "        print arg\n",
      "        \n",
      "    for k, v in kwargs.items():\n",
      "        print k, \"=>\", v        \n",
      "        \n",
      "csv_reader(\"hello.csv\", field_separator=\";\", line_separator=\"#\")"
     ],
     "language": "python",
     "metadata": {},
     "outputs": [
      {
       "output_type": "stream",
       "stream": "stdout",
       "text": [
        "hello.csv\n",
        "line_separator => #\n",
        "field_separator => ;\n"
       ]
      }
     ],
     "prompt_number": 32
    },
    {
     "cell_type": "markdown",
     "metadata": {},
     "source": [
      "---"
     ]
    },
    {
     "cell_type": "markdown",
     "metadata": {},
     "source": [
      "\n",
      "# Functions inside Functions"
     ]
    },
    {
     "cell_type": "markdown",
     "metadata": {},
     "source": [
      "## `def` inside `def`? \n",
      "> Yes sir"
     ]
    },
    {
     "cell_type": "markdown",
     "metadata": {},
     "source": [
      "---"
     ]
    },
    {
     "cell_type": "markdown",
     "metadata": {},
     "source": [
      "# Functions as Arguments"
     ]
    },
    {
     "cell_type": "markdown",
     "metadata": {},
     "source": [
      "---"
     ]
    },
    {
     "cell_type": "markdown",
     "metadata": {},
     "source": [
      "# Returning Functions"
     ]
    }
   ],
   "metadata": {}
  }
 ]
}